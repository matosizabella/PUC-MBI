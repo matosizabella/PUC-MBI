{
  "nbformat": 4,
  "nbformat_minor": 0,
  "metadata": {
    "kernelspec": {
      "display_name": "Python 3",
      "language": "python",
      "name": "python3"
    },
    "language_info": {
      "codemirror_mode": {
        "name": "ipython",
        "version": 3
      },
      "file_extension": ".py",
      "mimetype": "text/x-python",
      "name": "python",
      "nbconvert_exporter": "python",
      "pygments_lexer": "ipython3",
      "version": "3.7.6"
    },
    "colab": {
      "name": "Trabalho_Izabella.ipynb",
      "provenance": []
    }
  },
  "cells": [
    {
      "cell_type": "markdown",
      "metadata": {
        "id": "_zZe6FBRdQqE"
      },
      "source": [
        "# 1. Carregamento das bibliotecas"
      ]
    },
    {
      "cell_type": "code",
      "metadata": {
        "id": "3x6coEMRdQqF"
      },
      "source": [
        "import pandas as pd\n",
        "import numpy as np\n",
        "import matplotlib.pyplot as plt\n",
        "import seaborn as sns\n",
        "import scipy.stats as scs"
      ],
      "execution_count": 3,
      "outputs": []
    },
    {
      "cell_type": "markdown",
      "metadata": {
        "id": "CQb9J0wkdQqG"
      },
      "source": [
        "# 2. Exploração dos dados"
      ]
    },
    {
      "cell_type": "markdown",
      "metadata": {
        "id": "QhWwgC5OdQqG"
      },
      "source": [
        "Este capítulo do Notebook apresenta como foram tratados os dados para posterior análise."
      ]
    },
    {
      "cell_type": "markdown",
      "metadata": {
        "id": "rWvgBs07dQqH"
      },
      "source": [
        "## 2.1. Conhecendo o DF, prévia e tipo dos dados"
      ]
    },
    {
      "cell_type": "code",
      "metadata": {
        "id": "Y4geSvgAdQqH",
        "colab": {
          "base_uri": "https://localhost:8080/"
        },
        "outputId": "81399858-7fd9-4a27-aa32-d1a1fb864369"
      },
      "source": [
        "#Conhecendo o DF\n",
        "df= pd.read_csv('dados_finais.csv')\n",
        "\n",
        "print('shape:', df.shape)\n"
      ],
      "execution_count": 4,
      "outputs": [
        {
          "output_type": "stream",
          "name": "stdout",
          "text": [
            "shape: (5565, 47)\n"
          ]
        }
      ]
    },
    {
      "cell_type": "code",
      "metadata": {
        "id": "78YjNOs8dQqH",
        "colab": {
          "base_uri": "https://localhost:8080/",
          "height": 478
        },
        "outputId": "fb524c4a-4d10-4c6d-c2fb-d795d44e047f"
      },
      "source": [
        "#Conhecendo uma prévia dos dados\n",
        "df.head(10)"
      ],
      "execution_count": 5,
      "outputs": [
        {
          "output_type": "execute_result",
          "data": {
            "text/html": [
              "<div>\n",
              "<style scoped>\n",
              "    .dataframe tbody tr th:only-of-type {\n",
              "        vertical-align: middle;\n",
              "    }\n",
              "\n",
              "    .dataframe tbody tr th {\n",
              "        vertical-align: top;\n",
              "    }\n",
              "\n",
              "    .dataframe thead th {\n",
              "        text-align: right;\n",
              "    }\n",
              "</style>\n",
              "<table border=\"1\" class=\"dataframe\">\n",
              "  <thead>\n",
              "    <tr style=\"text-align: right;\">\n",
              "      <th></th>\n",
              "      <th>ID</th>\n",
              "      <th>COD_UF</th>\n",
              "      <th>UF</th>\n",
              "      <th>REGIAO</th>\n",
              "      <th>NOMEMUN</th>\n",
              "      <th>SCO</th>\n",
              "      <th>TPM</th>\n",
              "      <th>DDM</th>\n",
              "      <th>SMM</th>\n",
              "      <th>POM</th>\n",
              "      <th>TPO</th>\n",
              "      <th>RSA</th>\n",
              "      <th>TXE</th>\n",
              "      <th>IDEBI</th>\n",
              "      <th>IDEBF</th>\n",
              "      <th>PIB</th>\n",
              "      <th>RFE</th>\n",
              "      <th>RER</th>\n",
              "      <th>DEM</th>\n",
              "      <th>OPNV</th>\n",
              "      <th>IMH</th>\n",
              "      <th>AUT</th>\n",
              "      <th>ESA</th>\n",
              "      <th>AVP</th>\n",
              "      <th>UVP</th>\n",
              "      <th>ESPVIDA</th>\n",
              "      <th>T_ENV</th>\n",
              "      <th>E_ANOSESTUDO</th>\n",
              "      <th>T_ANALF15M</th>\n",
              "      <th>GINI</th>\n",
              "      <th>PIND</th>\n",
              "      <th>PMPOB</th>\n",
              "      <th>PPOB</th>\n",
              "      <th>RDPC</th>\n",
              "      <th>T_AGUA</th>\n",
              "      <th>T_DENS</th>\n",
              "      <th>T_LIXO</th>\n",
              "      <th>T_LUZ</th>\n",
              "      <th>HOMEMTOT</th>\n",
              "      <th>MULHERTOT</th>\n",
              "      <th>PEA</th>\n",
              "      <th>pesoRUR</th>\n",
              "      <th>pesourb</th>\n",
              "      <th>IDHM</th>\n",
              "      <th>IDHM_E</th>\n",
              "      <th>IDHM_L</th>\n",
              "      <th>IDHM_R</th>\n",
              "    </tr>\n",
              "  </thead>\n",
              "  <tbody>\n",
              "    <tr>\n",
              "      <th>0</th>\n",
              "      <td>1100015</td>\n",
              "      <td>11</td>\n",
              "      <td>RO</td>\n",
              "      <td>Norte</td>\n",
              "      <td>ALTA FLORESTA D'OESTE</td>\n",
              "      <td>0.707630</td>\n",
              "      <td>24392</td>\n",
              "      <td>3.45</td>\n",
              "      <td>1.8</td>\n",
              "      <td>3271.0</td>\n",
              "      <td>14.1</td>\n",
              "      <td>41.8</td>\n",
              "      <td>95.7</td>\n",
              "      <td>6.2</td>\n",
              "      <td>4.8</td>\n",
              "      <td>19611.75</td>\n",
              "      <td>88.0</td>\n",
              "      <td>61193.26</td>\n",
              "      <td>63500.28</td>\n",
              "      <td>14.12</td>\n",
              "      <td>4.2</td>\n",
              "      <td>7067025.00</td>\n",
              "      <td>2.6</td>\n",
              "      <td>36.5</td>\n",
              "      <td>0.4</td>\n",
              "      <td>70.75</td>\n",
              "      <td>5.84</td>\n",
              "      <td>8.67</td>\n",
              "      <td>11.99</td>\n",
              "      <td>0.58</td>\n",
              "      <td>14.29</td>\n",
              "      <td>26.04</td>\n",
              "      <td>47.12</td>\n",
              "      <td>476.99</td>\n",
              "      <td>93.69</td>\n",
              "      <td>22.58</td>\n",
              "      <td>94.05</td>\n",
              "      <td>93.98</td>\n",
              "      <td>12656</td>\n",
              "      <td>11736</td>\n",
              "      <td>10611</td>\n",
              "      <td>10422</td>\n",
              "      <td>13970</td>\n",
              "      <td>0.641</td>\n",
              "      <td>0.526</td>\n",
              "      <td>0.763</td>\n",
              "      <td>0.657</td>\n",
              "    </tr>\n",
              "    <tr>\n",
              "      <th>1</th>\n",
              "      <td>1100023</td>\n",
              "      <td>11</td>\n",
              "      <td>RO</td>\n",
              "      <td>Norte</td>\n",
              "      <td>ARIQUEMES</td>\n",
              "      <td>0.751337</td>\n",
              "      <td>90353</td>\n",
              "      <td>20.41</td>\n",
              "      <td>2.0</td>\n",
              "      <td>19886.0</td>\n",
              "      <td>18.7</td>\n",
              "      <td>35.0</td>\n",
              "      <td>97.2</td>\n",
              "      <td>5.5</td>\n",
              "      <td>4.9</td>\n",
              "      <td>21389.67</td>\n",
              "      <td>66.2</td>\n",
              "      <td>235252.82</td>\n",
              "      <td>198489.65</td>\n",
              "      <td>13.34</td>\n",
              "      <td>1.2</td>\n",
              "      <td>4426571.00</td>\n",
              "      <td>8.6</td>\n",
              "      <td>33.8</td>\n",
              "      <td>5.1</td>\n",
              "      <td>73.36</td>\n",
              "      <td>4.36</td>\n",
              "      <td>9.18</td>\n",
              "      <td>7.90</td>\n",
              "      <td>0.53</td>\n",
              "      <td>4.36</td>\n",
              "      <td>11.54</td>\n",
              "      <td>29.04</td>\n",
              "      <td>689.95</td>\n",
              "      <td>98.54</td>\n",
              "      <td>27.15</td>\n",
              "      <td>96.72</td>\n",
              "      <td>98.58</td>\n",
              "      <td>45543</td>\n",
              "      <td>44810</td>\n",
              "      <td>45300</td>\n",
              "      <td>13828</td>\n",
              "      <td>76525</td>\n",
              "      <td>0.702</td>\n",
              "      <td>0.600</td>\n",
              "      <td>0.806</td>\n",
              "      <td>0.716</td>\n",
              "    </tr>\n",
              "    <tr>\n",
              "      <th>2</th>\n",
              "      <td>1100031</td>\n",
              "      <td>11</td>\n",
              "      <td>RO</td>\n",
              "      <td>Norte</td>\n",
              "      <td>CABIXI</td>\n",
              "      <td>0.755332</td>\n",
              "      <td>6313</td>\n",
              "      <td>4.80</td>\n",
              "      <td>1.8</td>\n",
              "      <td>607.0</td>\n",
              "      <td>11.2</td>\n",
              "      <td>41.4</td>\n",
              "      <td>98.1</td>\n",
              "      <td>6.1</td>\n",
              "      <td>5.1</td>\n",
              "      <td>22315.80</td>\n",
              "      <td>91.4</td>\n",
              "      <td>21441.70</td>\n",
              "      <td>19269.95</td>\n",
              "      <td>NaN</td>\n",
              "      <td>6.5</td>\n",
              "      <td>1314352.00</td>\n",
              "      <td>22.1</td>\n",
              "      <td>1.0</td>\n",
              "      <td>0.0</td>\n",
              "      <td>70.39</td>\n",
              "      <td>6.87</td>\n",
              "      <td>10.09</td>\n",
              "      <td>13.63</td>\n",
              "      <td>0.51</td>\n",
              "      <td>7.27</td>\n",
              "      <td>21.20</td>\n",
              "      <td>46.98</td>\n",
              "      <td>457.17</td>\n",
              "      <td>95.49</td>\n",
              "      <td>19.93</td>\n",
              "      <td>99.14</td>\n",
              "      <td>96.36</td>\n",
              "      <td>3266</td>\n",
              "      <td>3047</td>\n",
              "      <td>2869</td>\n",
              "      <td>3620</td>\n",
              "      <td>2693</td>\n",
              "      <td>0.650</td>\n",
              "      <td>0.559</td>\n",
              "      <td>0.757</td>\n",
              "      <td>0.650</td>\n",
              "    </tr>\n",
              "    <tr>\n",
              "      <th>3</th>\n",
              "      <td>1100049</td>\n",
              "      <td>11</td>\n",
              "      <td>RO</td>\n",
              "      <td>Norte</td>\n",
              "      <td>CACOAL</td>\n",
              "      <td>0.751092</td>\n",
              "      <td>78574</td>\n",
              "      <td>20.72</td>\n",
              "      <td>2.0</td>\n",
              "      <td>19942.0</td>\n",
              "      <td>23.5</td>\n",
              "      <td>35.6</td>\n",
              "      <td>97.6</td>\n",
              "      <td>6.3</td>\n",
              "      <td>5.1</td>\n",
              "      <td>24037.91</td>\n",
              "      <td>67.4</td>\n",
              "      <td>178701.03</td>\n",
              "      <td>172804.94</td>\n",
              "      <td>9.64</td>\n",
              "      <td>1.0</td>\n",
              "      <td>3792892.00</td>\n",
              "      <td>52.5</td>\n",
              "      <td>86.6</td>\n",
              "      <td>11.7</td>\n",
              "      <td>74.27</td>\n",
              "      <td>5.57</td>\n",
              "      <td>9.74</td>\n",
              "      <td>8.29</td>\n",
              "      <td>0.57</td>\n",
              "      <td>5.97</td>\n",
              "      <td>13.08</td>\n",
              "      <td>29.82</td>\n",
              "      <td>738.06</td>\n",
              "      <td>97.96</td>\n",
              "      <td>20.50</td>\n",
              "      <td>98.17</td>\n",
              "      <td>98.89</td>\n",
              "      <td>39124</td>\n",
              "      <td>39450</td>\n",
              "      <td>40083</td>\n",
              "      <td>16653</td>\n",
              "      <td>61921</td>\n",
              "      <td>0.718</td>\n",
              "      <td>0.620</td>\n",
              "      <td>0.821</td>\n",
              "      <td>0.727</td>\n",
              "    </tr>\n",
              "    <tr>\n",
              "      <th>4</th>\n",
              "      <td>1100056</td>\n",
              "      <td>11</td>\n",
              "      <td>RO</td>\n",
              "      <td>Norte</td>\n",
              "      <td>CEREJEIRAS</td>\n",
              "      <td>0.750303</td>\n",
              "      <td>17029</td>\n",
              "      <td>6.12</td>\n",
              "      <td>2.0</td>\n",
              "      <td>2482.0</td>\n",
              "      <td>15.1</td>\n",
              "      <td>35.7</td>\n",
              "      <td>98.5</td>\n",
              "      <td>6.4</td>\n",
              "      <td>5.3</td>\n",
              "      <td>25009.71</td>\n",
              "      <td>87.6</td>\n",
              "      <td>48054.32</td>\n",
              "      <td>42293.05</td>\n",
              "      <td>3.61</td>\n",
              "      <td>7.5</td>\n",
              "      <td>2783.30</td>\n",
              "      <td>17.1</td>\n",
              "      <td>36.2</td>\n",
              "      <td>2.0</td>\n",
              "      <td>72.94</td>\n",
              "      <td>6.44</td>\n",
              "      <td>10.22</td>\n",
              "      <td>10.29</td>\n",
              "      <td>0.50</td>\n",
              "      <td>4.72</td>\n",
              "      <td>13.70</td>\n",
              "      <td>34.85</td>\n",
              "      <td>577.18</td>\n",
              "      <td>97.53</td>\n",
              "      <td>16.66</td>\n",
              "      <td>91.89</td>\n",
              "      <td>98.85</td>\n",
              "      <td>8551</td>\n",
              "      <td>8478</td>\n",
              "      <td>8699</td>\n",
              "      <td>2610</td>\n",
              "      <td>14419</td>\n",
              "      <td>0.692</td>\n",
              "      <td>0.602</td>\n",
              "      <td>0.799</td>\n",
              "      <td>0.688</td>\n",
              "    </tr>\n",
              "    <tr>\n",
              "      <th>5</th>\n",
              "      <td>1100064</td>\n",
              "      <td>11</td>\n",
              "      <td>RO</td>\n",
              "      <td>Norte</td>\n",
              "      <td>COLORADO DO OESTE</td>\n",
              "      <td>0.726231</td>\n",
              "      <td>18591</td>\n",
              "      <td>12.81</td>\n",
              "      <td>1.8</td>\n",
              "      <td>2401.0</td>\n",
              "      <td>14.8</td>\n",
              "      <td>37.0</td>\n",
              "      <td>97.6</td>\n",
              "      <td>6.4</td>\n",
              "      <td>5.0</td>\n",
              "      <td>18413.74</td>\n",
              "      <td>88.7</td>\n",
              "      <td>40127.82</td>\n",
              "      <td>37280.76</td>\n",
              "      <td>20.58</td>\n",
              "      <td>6.6</td>\n",
              "      <td>1451.06</td>\n",
              "      <td>5.2</td>\n",
              "      <td>10.7</td>\n",
              "      <td>4.1</td>\n",
              "      <td>73.81</td>\n",
              "      <td>7.51</td>\n",
              "      <td>10.40</td>\n",
              "      <td>12.43</td>\n",
              "      <td>0.49</td>\n",
              "      <td>6.64</td>\n",
              "      <td>15.76</td>\n",
              "      <td>37.11</td>\n",
              "      <td>535.41</td>\n",
              "      <td>95.54</td>\n",
              "      <td>14.73</td>\n",
              "      <td>92.79</td>\n",
              "      <td>97.76</td>\n",
              "      <td>9330</td>\n",
              "      <td>9261</td>\n",
              "      <td>8851</td>\n",
              "      <td>4934</td>\n",
              "      <td>13657</td>\n",
              "      <td>0.685</td>\n",
              "      <td>0.584</td>\n",
              "      <td>0.814</td>\n",
              "      <td>0.676</td>\n",
              "    </tr>\n",
              "    <tr>\n",
              "      <th>6</th>\n",
              "      <td>1100072</td>\n",
              "      <td>11</td>\n",
              "      <td>RO</td>\n",
              "      <td>Norte</td>\n",
              "      <td>CORUMBIARA</td>\n",
              "      <td>0.748215</td>\n",
              "      <td>8783</td>\n",
              "      <td>2.87</td>\n",
              "      <td>1.9</td>\n",
              "      <td>860.0</td>\n",
              "      <td>11.4</td>\n",
              "      <td>42.4</td>\n",
              "      <td>97.1</td>\n",
              "      <td>5.7</td>\n",
              "      <td>4.4</td>\n",
              "      <td>38156.05</td>\n",
              "      <td>92.8</td>\n",
              "      <td>31010.24</td>\n",
              "      <td>25701.31</td>\n",
              "      <td>22.99</td>\n",
              "      <td>1.0</td>\n",
              "      <td>3060321.00</td>\n",
              "      <td>11.3</td>\n",
              "      <td>56.2</td>\n",
              "      <td>0.5</td>\n",
              "      <td>71.45</td>\n",
              "      <td>5.67</td>\n",
              "      <td>9.82</td>\n",
              "      <td>12.47</td>\n",
              "      <td>0.48</td>\n",
              "      <td>10.16</td>\n",
              "      <td>24.02</td>\n",
              "      <td>46.42</td>\n",
              "      <td>402.15</td>\n",
              "      <td>93.24</td>\n",
              "      <td>14.46</td>\n",
              "      <td>90.19</td>\n",
              "      <td>97.81</td>\n",
              "      <td>4711</td>\n",
              "      <td>4072</td>\n",
              "      <td>4251</td>\n",
              "      <td>6193</td>\n",
              "      <td>2590</td>\n",
              "      <td>0.613</td>\n",
              "      <td>0.473</td>\n",
              "      <td>0.774</td>\n",
              "      <td>0.630</td>\n",
              "    </tr>\n",
              "    <tr>\n",
              "      <th>7</th>\n",
              "      <td>1100080</td>\n",
              "      <td>11</td>\n",
              "      <td>RO</td>\n",
              "      <td>Norte</td>\n",
              "      <td>COSTA MARQUES</td>\n",
              "      <td>0.732188</td>\n",
              "      <td>13678</td>\n",
              "      <td>2.74</td>\n",
              "      <td>1.8</td>\n",
              "      <td>996.0</td>\n",
              "      <td>5.6</td>\n",
              "      <td>44.3</td>\n",
              "      <td>97.6</td>\n",
              "      <td>4.8</td>\n",
              "      <td>5.0</td>\n",
              "      <td>12413.35</td>\n",
              "      <td>94.6</td>\n",
              "      <td>33459.88</td>\n",
              "      <td>24663.36</td>\n",
              "      <td>32.41</td>\n",
              "      <td>0.5</td>\n",
              "      <td>4987177.00</td>\n",
              "      <td>8.3</td>\n",
              "      <td>44.8</td>\n",
              "      <td>0.0</td>\n",
              "      <td>70.04</td>\n",
              "      <td>3.82</td>\n",
              "      <td>9.22</td>\n",
              "      <td>8.60</td>\n",
              "      <td>0.52</td>\n",
              "      <td>9.66</td>\n",
              "      <td>30.48</td>\n",
              "      <td>55.80</td>\n",
              "      <td>370.77</td>\n",
              "      <td>95.67</td>\n",
              "      <td>36.18</td>\n",
              "      <td>79.35</td>\n",
              "      <td>90.13</td>\n",
              "      <td>7202</td>\n",
              "      <td>6476</td>\n",
              "      <td>6266</td>\n",
              "      <td>6181</td>\n",
              "      <td>7497</td>\n",
              "      <td>0.611</td>\n",
              "      <td>0.493</td>\n",
              "      <td>0.751</td>\n",
              "      <td>0.616</td>\n",
              "    </tr>\n",
              "    <tr>\n",
              "      <th>8</th>\n",
              "      <td>1100098</td>\n",
              "      <td>11</td>\n",
              "      <td>RO</td>\n",
              "      <td>Norte</td>\n",
              "      <td>ESPIGÃO D'OESTE</td>\n",
              "      <td>0.754812</td>\n",
              "      <td>28729</td>\n",
              "      <td>6.36</td>\n",
              "      <td>1.9</td>\n",
              "      <td>5301.0</td>\n",
              "      <td>16.5</td>\n",
              "      <td>39.7</td>\n",
              "      <td>95.9</td>\n",
              "      <td>6.1</td>\n",
              "      <td>5.2</td>\n",
              "      <td>17498.71</td>\n",
              "      <td>75.6</td>\n",
              "      <td>70983.61</td>\n",
              "      <td>56572.26</td>\n",
              "      <td>7.50</td>\n",
              "      <td>4.0</td>\n",
              "      <td>4518038.00</td>\n",
              "      <td>13.7</td>\n",
              "      <td>59.4</td>\n",
              "      <td>4.2</td>\n",
              "      <td>74.15</td>\n",
              "      <td>5.21</td>\n",
              "      <td>9.55</td>\n",
              "      <td>11.33</td>\n",
              "      <td>0.52</td>\n",
              "      <td>6.60</td>\n",
              "      <td>13.86</td>\n",
              "      <td>35.08</td>\n",
              "      <td>590.80</td>\n",
              "      <td>93.70</td>\n",
              "      <td>19.97</td>\n",
              "      <td>91.07</td>\n",
              "      <td>96.70</td>\n",
              "      <td>14606</td>\n",
              "      <td>14123</td>\n",
              "      <td>15107</td>\n",
              "      <td>8119</td>\n",
              "      <td>20610</td>\n",
              "      <td>0.672</td>\n",
              "      <td>0.536</td>\n",
              "      <td>0.819</td>\n",
              "      <td>0.691</td>\n",
              "    </tr>\n",
              "    <tr>\n",
              "      <th>9</th>\n",
              "      <td>1100106</td>\n",
              "      <td>11</td>\n",
              "      <td>RO</td>\n",
              "      <td>Norte</td>\n",
              "      <td>GUAJARÁ-MIRIM</td>\n",
              "      <td>0.762954</td>\n",
              "      <td>41656</td>\n",
              "      <td>1.68</td>\n",
              "      <td>2.0</td>\n",
              "      <td>4504.0</td>\n",
              "      <td>9.8</td>\n",
              "      <td>41.4</td>\n",
              "      <td>93.1</td>\n",
              "      <td>4.9</td>\n",
              "      <td>4.4</td>\n",
              "      <td>16955.80</td>\n",
              "      <td>82.6</td>\n",
              "      <td>85114.29</td>\n",
              "      <td>75732.45</td>\n",
              "      <td>21.38</td>\n",
              "      <td>5.0</td>\n",
              "      <td>24855724.00</td>\n",
              "      <td>20.5</td>\n",
              "      <td>15.2</td>\n",
              "      <td>3.1</td>\n",
              "      <td>74.39</td>\n",
              "      <td>4.82</td>\n",
              "      <td>8.17</td>\n",
              "      <td>8.06</td>\n",
              "      <td>0.54</td>\n",
              "      <td>10.38</td>\n",
              "      <td>23.47</td>\n",
              "      <td>43.92</td>\n",
              "      <td>494.69</td>\n",
              "      <td>93.26</td>\n",
              "      <td>43.40</td>\n",
              "      <td>90.41</td>\n",
              "      <td>97.71</td>\n",
              "      <td>20947</td>\n",
              "      <td>20709</td>\n",
              "      <td>16920</td>\n",
              "      <td>6449</td>\n",
              "      <td>35207</td>\n",
              "      <td>0.657</td>\n",
              "      <td>0.519</td>\n",
              "      <td>0.823</td>\n",
              "      <td>0.663</td>\n",
              "    </tr>\n",
              "  </tbody>\n",
              "</table>\n",
              "</div>"
            ],
            "text/plain": [
              "        ID  COD_UF   UF REGIAO  ...   IDHM  IDHM_E  IDHM_L  IDHM_R\n",
              "0  1100015      11  RO   Norte  ...  0.641   0.526   0.763   0.657\n",
              "1  1100023      11  RO   Norte  ...  0.702   0.600   0.806   0.716\n",
              "2  1100031      11  RO   Norte  ...  0.650   0.559   0.757   0.650\n",
              "3  1100049      11  RO   Norte  ...  0.718   0.620   0.821   0.727\n",
              "4  1100056      11  RO   Norte  ...  0.692   0.602   0.799   0.688\n",
              "5  1100064      11  RO   Norte  ...  0.685   0.584   0.814   0.676\n",
              "6  1100072      11  RO   Norte  ...  0.613   0.473   0.774   0.630\n",
              "7  1100080      11  RO   Norte  ...  0.611   0.493   0.751   0.616\n",
              "8  1100098      11  RO   Norte  ...  0.672   0.536   0.819   0.691\n",
              "9  1100106      11  RO   Norte  ...  0.657   0.519   0.823   0.663\n",
              "\n",
              "[10 rows x 47 columns]"
            ]
          },
          "metadata": {},
          "execution_count": 5
        }
      ]
    },
    {
      "cell_type": "code",
      "metadata": {
        "id": "DI_LdPWddQqI"
      },
      "source": [
        "#Setando o ID como index do DF\n",
        "df.set_index('ID', inplace=True, drop=True)"
      ],
      "execution_count": 6,
      "outputs": []
    },
    {
      "cell_type": "code",
      "metadata": {
        "id": "yq6-cha0dQqI",
        "colab": {
          "base_uri": "https://localhost:8080/"
        },
        "outputId": "3108e565-af1b-4261-adc3-26a107be0a0b"
      },
      "source": [
        "#checando os nomes das colunas\n",
        "df.columns "
      ],
      "execution_count": 7,
      "outputs": [
        {
          "output_type": "execute_result",
          "data": {
            "text/plain": [
              "Index(['COD_UF', 'UF', 'REGIAO', 'NOMEMUN', 'SCO', 'TPM', 'DDM', 'SMM', 'POM',\n",
              "       'TPO', 'RSA', 'TXE', 'IDEBI', 'IDEBF', 'PIB', 'RFE', 'RER', 'DEM',\n",
              "       'OPNV', 'IMH', 'AUT', 'ESA', 'AVP', 'UVP', 'ESPVIDA', 'T_ENV',\n",
              "       'E_ANOSESTUDO', 'T_ANALF15M', 'GINI', 'PIND', 'PMPOB', 'PPOB', 'RDPC',\n",
              "       'T_AGUA', 'T_DENS', 'T_LIXO', 'T_LUZ', 'HOMEMTOT', 'MULHERTOT', 'PEA',\n",
              "       'pesoRUR', 'pesourb', 'IDHM', 'IDHM_E', 'IDHM_L', 'IDHM_R'],\n",
              "      dtype='object')"
            ]
          },
          "metadata": {},
          "execution_count": 7
        }
      ]
    },
    {
      "cell_type": "code",
      "metadata": {
        "id": "-sBnwcdwdQqJ",
        "colab": {
          "base_uri": "https://localhost:8080/"
        },
        "outputId": "39d268f0-edbc-44c6-a00e-4fe10153710c"
      },
      "source": [
        "#checando os tipos dos dados\n",
        "df.dtypes"
      ],
      "execution_count": 8,
      "outputs": [
        {
          "output_type": "execute_result",
          "data": {
            "text/plain": [
              "COD_UF            int64\n",
              "UF               object\n",
              "REGIAO           object\n",
              "NOMEMUN          object\n",
              "SCO             float64\n",
              "TPM               int64\n",
              "DDM             float64\n",
              "SMM             float64\n",
              "POM             float64\n",
              "TPO             float64\n",
              "RSA             float64\n",
              "TXE             float64\n",
              "IDEBI           float64\n",
              "IDEBF           float64\n",
              "PIB             float64\n",
              "RFE             float64\n",
              "RER             float64\n",
              "DEM             float64\n",
              "OPNV            float64\n",
              "IMH             float64\n",
              "AUT             float64\n",
              "ESA             float64\n",
              "AVP             float64\n",
              "UVP             float64\n",
              "ESPVIDA         float64\n",
              "T_ENV           float64\n",
              "E_ANOSESTUDO    float64\n",
              "T_ANALF15M      float64\n",
              "GINI            float64\n",
              "PIND            float64\n",
              "PMPOB           float64\n",
              "PPOB            float64\n",
              "RDPC            float64\n",
              "T_AGUA          float64\n",
              "T_DENS          float64\n",
              "T_LIXO          float64\n",
              "T_LUZ           float64\n",
              "HOMEMTOT          int64\n",
              "MULHERTOT         int64\n",
              "PEA               int64\n",
              "pesoRUR           int64\n",
              "pesourb           int64\n",
              "IDHM            float64\n",
              "IDHM_E          float64\n",
              "IDHM_L          float64\n",
              "IDHM_R          float64\n",
              "dtype: object"
            ]
          },
          "metadata": {},
          "execution_count": 8
        }
      ]
    },
    {
      "cell_type": "code",
      "metadata": {
        "id": "WYL8uq-OdQqJ",
        "colab": {
          "base_uri": "https://localhost:8080/",
          "height": 315
        },
        "outputId": "e36efb02-0f6c-42ff-9242-167beaabd975"
      },
      "source": [
        "df.describe()"
      ],
      "execution_count": 9,
      "outputs": [
        {
          "output_type": "execute_result",
          "data": {
            "text/html": [
              "<div>\n",
              "<style scoped>\n",
              "    .dataframe tbody tr th:only-of-type {\n",
              "        vertical-align: middle;\n",
              "    }\n",
              "\n",
              "    .dataframe tbody tr th {\n",
              "        vertical-align: top;\n",
              "    }\n",
              "\n",
              "    .dataframe thead th {\n",
              "        text-align: right;\n",
              "    }\n",
              "</style>\n",
              "<table border=\"1\" class=\"dataframe\">\n",
              "  <thead>\n",
              "    <tr style=\"text-align: right;\">\n",
              "      <th></th>\n",
              "      <th>COD_UF</th>\n",
              "      <th>SCO</th>\n",
              "      <th>TPM</th>\n",
              "      <th>DDM</th>\n",
              "      <th>SMM</th>\n",
              "      <th>POM</th>\n",
              "      <th>TPO</th>\n",
              "      <th>RSA</th>\n",
              "      <th>TXE</th>\n",
              "      <th>IDEBI</th>\n",
              "      <th>IDEBF</th>\n",
              "      <th>PIB</th>\n",
              "      <th>RFE</th>\n",
              "      <th>RER</th>\n",
              "      <th>DEM</th>\n",
              "      <th>OPNV</th>\n",
              "      <th>IMH</th>\n",
              "      <th>AUT</th>\n",
              "      <th>ESA</th>\n",
              "      <th>AVP</th>\n",
              "      <th>UVP</th>\n",
              "      <th>ESPVIDA</th>\n",
              "      <th>T_ENV</th>\n",
              "      <th>E_ANOSESTUDO</th>\n",
              "      <th>T_ANALF15M</th>\n",
              "      <th>GINI</th>\n",
              "      <th>PIND</th>\n",
              "      <th>PMPOB</th>\n",
              "      <th>PPOB</th>\n",
              "      <th>RDPC</th>\n",
              "      <th>T_AGUA</th>\n",
              "      <th>T_DENS</th>\n",
              "      <th>T_LIXO</th>\n",
              "      <th>T_LUZ</th>\n",
              "      <th>HOMEMTOT</th>\n",
              "      <th>MULHERTOT</th>\n",
              "      <th>PEA</th>\n",
              "      <th>pesoRUR</th>\n",
              "      <th>pesourb</th>\n",
              "      <th>IDHM</th>\n",
              "      <th>IDHM_E</th>\n",
              "      <th>IDHM_L</th>\n",
              "      <th>IDHM_R</th>\n",
              "    </tr>\n",
              "  </thead>\n",
              "  <tbody>\n",
              "    <tr>\n",
              "      <th>count</th>\n",
              "      <td>5565.000000</td>\n",
              "      <td>5565.000000</td>\n",
              "      <td>5.565000e+03</td>\n",
              "      <td>5565.000000</td>\n",
              "      <td>5565.000000</td>\n",
              "      <td>5.565000e+03</td>\n",
              "      <td>5565.000000</td>\n",
              "      <td>5565.000000</td>\n",
              "      <td>5565.000000</td>\n",
              "      <td>5473.000000</td>\n",
              "      <td>5458.000000</td>\n",
              "      <td>5565.000000</td>\n",
              "      <td>4997.000000</td>\n",
              "      <td>5.565000e+03</td>\n",
              "      <td>5.565000e+03</td>\n",
              "      <td>4149.000000</td>\n",
              "      <td>5115.000000</td>\n",
              "      <td>5.565000e+03</td>\n",
              "      <td>5565.000000</td>\n",
              "      <td>5551.000000</td>\n",
              "      <td>5565.000000</td>\n",
              "      <td>5565.000000</td>\n",
              "      <td>5565.000000</td>\n",
              "      <td>5565.000000</td>\n",
              "      <td>5565.000000</td>\n",
              "      <td>5565.000000</td>\n",
              "      <td>5565.000000</td>\n",
              "      <td>5565.000000</td>\n",
              "      <td>5565.000000</td>\n",
              "      <td>5565.000000</td>\n",
              "      <td>5565.000000</td>\n",
              "      <td>5565.000000</td>\n",
              "      <td>5565.000000</td>\n",
              "      <td>5565.000000</td>\n",
              "      <td>5.565000e+03</td>\n",
              "      <td>5.565000e+03</td>\n",
              "      <td>5.565000e+03</td>\n",
              "      <td>5565.000000</td>\n",
              "      <td>5.565000e+03</td>\n",
              "      <td>5565.000000</td>\n",
              "      <td>5565.000000</td>\n",
              "      <td>5565.000000</td>\n",
              "      <td>5565.000000</td>\n",
              "    </tr>\n",
              "    <tr>\n",
              "      <th>mean</th>\n",
              "      <td>32.372327</td>\n",
              "      <td>0.748560</td>\n",
              "      <td>3.427777e+04</td>\n",
              "      <td>108.202577</td>\n",
              "      <td>2.017934</td>\n",
              "      <td>9.382440e+03</td>\n",
              "      <td>15.296406</td>\n",
              "      <td>40.743863</td>\n",
              "      <td>97.137233</td>\n",
              "      <td>5.598812</td>\n",
              "      <td>4.379058</td>\n",
              "      <td>21979.495614</td>\n",
              "      <td>85.481369</td>\n",
              "      <td>1.127160e+05</td>\n",
              "      <td>1.020636e+05</td>\n",
              "      <td>17.370357</td>\n",
              "      <td>2.500391</td>\n",
              "      <td>1.382316e+06</td>\n",
              "      <td>41.844420</td>\n",
              "      <td>67.890650</td>\n",
              "      <td>17.077484</td>\n",
              "      <td>73.088996</td>\n",
              "      <td>8.397333</td>\n",
              "      <td>9.463639</td>\n",
              "      <td>16.158898</td>\n",
              "      <td>0.494381</td>\n",
              "      <td>11.341416</td>\n",
              "      <td>23.206573</td>\n",
              "      <td>43.990789</td>\n",
              "      <td>493.605617</td>\n",
              "      <td>85.598029</td>\n",
              "      <td>25.126600</td>\n",
              "      <td>94.047324</td>\n",
              "      <td>97.189614</td>\n",
              "      <td>1.678472e+04</td>\n",
              "      <td>1.749305e+04</td>\n",
              "      <td>1.686272e+04</td>\n",
              "      <td>5360.288769</td>\n",
              "      <td>2.891748e+04</td>\n",
              "      <td>0.659157</td>\n",
              "      <td>0.559094</td>\n",
              "      <td>0.801564</td>\n",
              "      <td>0.642873</td>\n",
              "    </tr>\n",
              "    <tr>\n",
              "      <th>std</th>\n",
              "      <td>9.829957</td>\n",
              "      <td>0.036039</td>\n",
              "      <td>2.031126e+05</td>\n",
              "      <td>572.117006</td>\n",
              "      <td>0.484922</td>\n",
              "      <td>9.340953e+04</td>\n",
              "      <td>10.435908</td>\n",
              "      <td>10.264519</td>\n",
              "      <td>2.665811</td>\n",
              "      <td>1.014320</td>\n",
              "      <td>0.791632</td>\n",
              "      <td>20917.026242</td>\n",
              "      <td>11.124204</td>\n",
              "      <td>8.760865e+05</td>\n",
              "      <td>8.402942e+05</td>\n",
              "      <td>13.434068</td>\n",
              "      <td>4.358700</td>\n",
              "      <td>5.462701e+06</td>\n",
              "      <td>31.222152</td>\n",
              "      <td>26.912599</td>\n",
              "      <td>18.837519</td>\n",
              "      <td>2.680715</td>\n",
              "      <td>2.422997</td>\n",
              "      <td>1.098269</td>\n",
              "      <td>9.839618</td>\n",
              "      <td>0.066075</td>\n",
              "      <td>11.764060</td>\n",
              "      <td>17.915650</td>\n",
              "      <td>22.437971</td>\n",
              "      <td>243.269333</td>\n",
              "      <td>14.721327</td>\n",
              "      <td>12.998503</td>\n",
              "      <td>11.049525</td>\n",
              "      <td>6.024377</td>\n",
              "      <td>9.610372e+04</td>\n",
              "      <td>1.070224e+05</td>\n",
              "      <td>1.070601e+05</td>\n",
              "      <td>6641.675014</td>\n",
              "      <td>2.015510e+05</td>\n",
              "      <td>0.071997</td>\n",
              "      <td>0.093328</td>\n",
              "      <td>0.044681</td>\n",
              "      <td>0.080662</td>\n",
              "    </tr>\n",
              "    <tr>\n",
              "      <th>min</th>\n",
              "      <td>11.000000</td>\n",
              "      <td>0.487972</td>\n",
              "      <td>8.050000e+02</td>\n",
              "      <td>0.130000</td>\n",
              "      <td>0.800000</td>\n",
              "      <td>5.900000e+01</td>\n",
              "      <td>1.000000</td>\n",
              "      <td>12.200000</td>\n",
              "      <td>51.800000</td>\n",
              "      <td>2.700000</td>\n",
              "      <td>1.900000</td>\n",
              "      <td>3285.040000</td>\n",
              "      <td>0.100000</td>\n",
              "      <td>0.000000e+00</td>\n",
              "      <td>7.463100e+02</td>\n",
              "      <td>1.600000</td>\n",
              "      <td>0.000000</td>\n",
              "      <td>2.610000e+01</td>\n",
              "      <td>0.000000</td>\n",
              "      <td>0.200000</td>\n",
              "      <td>0.000000</td>\n",
              "      <td>65.300000</td>\n",
              "      <td>1.460000</td>\n",
              "      <td>4.340000</td>\n",
              "      <td>0.950000</td>\n",
              "      <td>0.280000</td>\n",
              "      <td>0.000000</td>\n",
              "      <td>0.000000</td>\n",
              "      <td>1.970000</td>\n",
              "      <td>96.250000</td>\n",
              "      <td>0.150000</td>\n",
              "      <td>0.650000</td>\n",
              "      <td>0.000000</td>\n",
              "      <td>27.410000</td>\n",
              "      <td>4.220000e+02</td>\n",
              "      <td>3.830000e+02</td>\n",
              "      <td>3.070000e+02</td>\n",
              "      <td>0.000000</td>\n",
              "      <td>1.740000e+02</td>\n",
              "      <td>0.418000</td>\n",
              "      <td>0.207000</td>\n",
              "      <td>0.672000</td>\n",
              "      <td>0.400000</td>\n",
              "    </tr>\n",
              "    <tr>\n",
              "      <th>25%</th>\n",
              "      <td>25.000000</td>\n",
              "      <td>0.733116</td>\n",
              "      <td>5.235000e+03</td>\n",
              "      <td>11.570000</td>\n",
              "      <td>1.700000</td>\n",
              "      <td>5.640000e+02</td>\n",
              "      <td>7.800000</td>\n",
              "      <td>32.500000</td>\n",
              "      <td>96.600000</td>\n",
              "      <td>4.800000</td>\n",
              "      <td>3.800000</td>\n",
              "      <td>9476.580000</td>\n",
              "      <td>80.500000</td>\n",
              "      <td>1.881977e+04</td>\n",
              "      <td>1.663053e+04</td>\n",
              "      <td>10.100000</td>\n",
              "      <td>0.400000</td>\n",
              "      <td>1.537760e+05</td>\n",
              "      <td>12.500000</td>\n",
              "      <td>49.200000</td>\n",
              "      <td>1.800000</td>\n",
              "      <td>71.150000</td>\n",
              "      <td>6.780000</td>\n",
              "      <td>8.750000</td>\n",
              "      <td>8.080000</td>\n",
              "      <td>0.450000</td>\n",
              "      <td>1.640000</td>\n",
              "      <td>7.030000</td>\n",
              "      <td>23.960000</td>\n",
              "      <td>281.120000</td>\n",
              "      <td>79.650000</td>\n",
              "      <td>15.410000</td>\n",
              "      <td>93.720000</td>\n",
              "      <td>97.650000</td>\n",
              "      <td>2.671000e+03</td>\n",
              "      <td>2.574000e+03</td>\n",
              "      <td>2.386000e+03</td>\n",
              "      <td>1599.000000</td>\n",
              "      <td>2.839000e+03</td>\n",
              "      <td>0.599000</td>\n",
              "      <td>0.490000</td>\n",
              "      <td>0.769000</td>\n",
              "      <td>0.572000</td>\n",
              "    </tr>\n",
              "    <tr>\n",
              "      <th>50%</th>\n",
              "      <td>31.000000</td>\n",
              "      <td>0.754317</td>\n",
              "      <td>1.093400e+04</td>\n",
              "      <td>24.380000</td>\n",
              "      <td>1.900000</td>\n",
              "      <td>1.233000e+03</td>\n",
              "      <td>12.500000</td>\n",
              "      <td>39.700000</td>\n",
              "      <td>97.600000</td>\n",
              "      <td>5.700000</td>\n",
              "      <td>4.400000</td>\n",
              "      <td>16598.420000</td>\n",
              "      <td>88.700000</td>\n",
              "      <td>3.238398e+04</td>\n",
              "      <td>2.901840e+04</td>\n",
              "      <td>14.290000</td>\n",
              "      <td>1.000000</td>\n",
              "      <td>3.520250e+05</td>\n",
              "      <td>37.300000</td>\n",
              "      <td>74.900000</td>\n",
              "      <td>10.200000</td>\n",
              "      <td>73.470000</td>\n",
              "      <td>8.380000</td>\n",
              "      <td>9.470000</td>\n",
              "      <td>13.120000</td>\n",
              "      <td>0.490000</td>\n",
              "      <td>6.240000</td>\n",
              "      <td>18.140000</td>\n",
              "      <td>42.230000</td>\n",
              "      <td>467.650000</td>\n",
              "      <td>90.280000</td>\n",
              "      <td>23.070000</td>\n",
              "      <td>98.030000</td>\n",
              "      <td>99.390000</td>\n",
              "      <td>5.548000e+03</td>\n",
              "      <td>5.419000e+03</td>\n",
              "      <td>4.933000e+03</td>\n",
              "      <td>3233.000000</td>\n",
              "      <td>6.263000e+03</td>\n",
              "      <td>0.665000</td>\n",
              "      <td>0.560000</td>\n",
              "      <td>0.808000</td>\n",
              "      <td>0.654000</td>\n",
              "    </tr>\n",
              "    <tr>\n",
              "      <th>75%</th>\n",
              "      <td>41.000000</td>\n",
              "      <td>0.773103</td>\n",
              "      <td>2.342400e+04</td>\n",
              "      <td>51.670000</td>\n",
              "      <td>2.200000</td>\n",
              "      <td>3.536000e+03</td>\n",
              "      <td>19.700000</td>\n",
              "      <td>50.100000</td>\n",
              "      <td>98.500000</td>\n",
              "      <td>6.400000</td>\n",
              "      <td>5.000000</td>\n",
              "      <td>27051.850000</td>\n",
              "      <td>93.700000</td>\n",
              "      <td>6.515173e+04</td>\n",
              "      <td>5.801804e+04</td>\n",
              "      <td>20.410000</td>\n",
              "      <td>2.700000</td>\n",
              "      <td>9.090390e+05</td>\n",
              "      <td>69.800000</td>\n",
              "      <td>91.200000</td>\n",
              "      <td>27.100000</td>\n",
              "      <td>75.160000</td>\n",
              "      <td>9.960000</td>\n",
              "      <td>10.210000</td>\n",
              "      <td>24.320000</td>\n",
              "      <td>0.540000</td>\n",
              "      <td>19.060000</td>\n",
              "      <td>38.520000</td>\n",
              "      <td>65.300000</td>\n",
              "      <td>650.620000</td>\n",
              "      <td>96.260000</td>\n",
              "      <td>32.580000</td>\n",
              "      <td>99.490000</td>\n",
              "      <td>99.870000</td>\n",
              "      <td>1.175800e+04</td>\n",
              "      <td>1.170700e+04</td>\n",
              "      <td>1.061400e+04</td>\n",
              "      <td>6767.000000</td>\n",
              "      <td>1.548400e+04</td>\n",
              "      <td>0.718000</td>\n",
              "      <td>0.631000</td>\n",
              "      <td>0.836000</td>\n",
              "      <td>0.707000</td>\n",
              "    </tr>\n",
              "    <tr>\n",
              "      <th>max</th>\n",
              "      <td>53.000000</td>\n",
              "      <td>0.850899</td>\n",
              "      <td>1.125350e+07</td>\n",
              "      <td>13024.560000</td>\n",
              "      <td>6.500000</td>\n",
              "      <td>5.571893e+06</td>\n",
              "      <td>133.500000</td>\n",
              "      <td>70.100000</td>\n",
              "      <td>100.000000</td>\n",
              "      <td>9.100000</td>\n",
              "      <td>7.200000</td>\n",
              "      <td>344847.170000</td>\n",
              "      <td>100.000000</td>\n",
              "      <td>5.401100e+07</td>\n",
              "      <td>5.141403e+07</td>\n",
              "      <td>285.710000</td>\n",
              "      <td>80.800000</td>\n",
              "      <td>1.595333e+08</td>\n",
              "      <td>100.000000</td>\n",
              "      <td>100.000000</td>\n",
              "      <td>98.300000</td>\n",
              "      <td>78.640000</td>\n",
              "      <td>20.420000</td>\n",
              "      <td>12.830000</td>\n",
              "      <td>44.400000</td>\n",
              "      <td>0.800000</td>\n",
              "      <td>69.670000</td>\n",
              "      <td>78.590000</td>\n",
              "      <td>91.570000</td>\n",
              "      <td>2043.740000</td>\n",
              "      <td>100.000000</td>\n",
              "      <td>88.640000</td>\n",
              "      <td>100.000000</td>\n",
              "      <td>100.000000</td>\n",
              "      <td>5.328632e+06</td>\n",
              "      <td>5.924871e+06</td>\n",
              "      <td>6.026212e+06</td>\n",
              "      <td>125336.000000</td>\n",
              "      <td>1.115234e+07</td>\n",
              "      <td>0.862000</td>\n",
              "      <td>0.825000</td>\n",
              "      <td>0.894000</td>\n",
              "      <td>0.891000</td>\n",
              "    </tr>\n",
              "  </tbody>\n",
              "</table>\n",
              "</div>"
            ],
            "text/plain": [
              "            COD_UF          SCO  ...       IDHM_L       IDHM_R\n",
              "count  5565.000000  5565.000000  ...  5565.000000  5565.000000\n",
              "mean     32.372327     0.748560  ...     0.801564     0.642873\n",
              "std       9.829957     0.036039  ...     0.044681     0.080662\n",
              "min      11.000000     0.487972  ...     0.672000     0.400000\n",
              "25%      25.000000     0.733116  ...     0.769000     0.572000\n",
              "50%      31.000000     0.754317  ...     0.808000     0.654000\n",
              "75%      41.000000     0.773103  ...     0.836000     0.707000\n",
              "max      53.000000     0.850899  ...     0.894000     0.891000\n",
              "\n",
              "[8 rows x 43 columns]"
            ]
          },
          "metadata": {},
          "execution_count": 9
        }
      ]
    },
    {
      "cell_type": "markdown",
      "metadata": {
        "id": "-FXbfuJ4dQqK"
      },
      "source": [
        "## 2.2. Verificação de dados duplicados, checagens e tratamentos"
      ]
    },
    {
      "cell_type": "code",
      "metadata": {
        "id": "RngqRC-odQqK",
        "colab": {
          "base_uri": "https://localhost:8080/",
          "height": 100
        },
        "outputId": "aaa4de01-0f61-4c9a-ba33-daeda21ebb3c"
      },
      "source": [
        "# Verificando se há dados de index duplicados\n",
        "df[df.index.duplicated()==True]"
      ],
      "execution_count": 10,
      "outputs": [
        {
          "output_type": "execute_result",
          "data": {
            "text/html": [
              "<div>\n",
              "<style scoped>\n",
              "    .dataframe tbody tr th:only-of-type {\n",
              "        vertical-align: middle;\n",
              "    }\n",
              "\n",
              "    .dataframe tbody tr th {\n",
              "        vertical-align: top;\n",
              "    }\n",
              "\n",
              "    .dataframe thead th {\n",
              "        text-align: right;\n",
              "    }\n",
              "</style>\n",
              "<table border=\"1\" class=\"dataframe\">\n",
              "  <thead>\n",
              "    <tr style=\"text-align: right;\">\n",
              "      <th></th>\n",
              "      <th>COD_UF</th>\n",
              "      <th>UF</th>\n",
              "      <th>REGIAO</th>\n",
              "      <th>NOMEMUN</th>\n",
              "      <th>SCO</th>\n",
              "      <th>TPM</th>\n",
              "      <th>DDM</th>\n",
              "      <th>SMM</th>\n",
              "      <th>POM</th>\n",
              "      <th>TPO</th>\n",
              "      <th>RSA</th>\n",
              "      <th>TXE</th>\n",
              "      <th>IDEBI</th>\n",
              "      <th>IDEBF</th>\n",
              "      <th>PIB</th>\n",
              "      <th>RFE</th>\n",
              "      <th>RER</th>\n",
              "      <th>DEM</th>\n",
              "      <th>OPNV</th>\n",
              "      <th>IMH</th>\n",
              "      <th>AUT</th>\n",
              "      <th>ESA</th>\n",
              "      <th>AVP</th>\n",
              "      <th>UVP</th>\n",
              "      <th>ESPVIDA</th>\n",
              "      <th>T_ENV</th>\n",
              "      <th>E_ANOSESTUDO</th>\n",
              "      <th>T_ANALF15M</th>\n",
              "      <th>GINI</th>\n",
              "      <th>PIND</th>\n",
              "      <th>PMPOB</th>\n",
              "      <th>PPOB</th>\n",
              "      <th>RDPC</th>\n",
              "      <th>T_AGUA</th>\n",
              "      <th>T_DENS</th>\n",
              "      <th>T_LIXO</th>\n",
              "      <th>T_LUZ</th>\n",
              "      <th>HOMEMTOT</th>\n",
              "      <th>MULHERTOT</th>\n",
              "      <th>PEA</th>\n",
              "      <th>pesoRUR</th>\n",
              "      <th>pesourb</th>\n",
              "      <th>IDHM</th>\n",
              "      <th>IDHM_E</th>\n",
              "      <th>IDHM_L</th>\n",
              "      <th>IDHM_R</th>\n",
              "    </tr>\n",
              "    <tr>\n",
              "      <th>ID</th>\n",
              "      <th></th>\n",
              "      <th></th>\n",
              "      <th></th>\n",
              "      <th></th>\n",
              "      <th></th>\n",
              "      <th></th>\n",
              "      <th></th>\n",
              "      <th></th>\n",
              "      <th></th>\n",
              "      <th></th>\n",
              "      <th></th>\n",
              "      <th></th>\n",
              "      <th></th>\n",
              "      <th></th>\n",
              "      <th></th>\n",
              "      <th></th>\n",
              "      <th></th>\n",
              "      <th></th>\n",
              "      <th></th>\n",
              "      <th></th>\n",
              "      <th></th>\n",
              "      <th></th>\n",
              "      <th></th>\n",
              "      <th></th>\n",
              "      <th></th>\n",
              "      <th></th>\n",
              "      <th></th>\n",
              "      <th></th>\n",
              "      <th></th>\n",
              "      <th></th>\n",
              "      <th></th>\n",
              "      <th></th>\n",
              "      <th></th>\n",
              "      <th></th>\n",
              "      <th></th>\n",
              "      <th></th>\n",
              "      <th></th>\n",
              "      <th></th>\n",
              "      <th></th>\n",
              "      <th></th>\n",
              "      <th></th>\n",
              "      <th></th>\n",
              "      <th></th>\n",
              "      <th></th>\n",
              "      <th></th>\n",
              "      <th></th>\n",
              "    </tr>\n",
              "  </thead>\n",
              "  <tbody>\n",
              "  </tbody>\n",
              "</table>\n",
              "</div>"
            ],
            "text/plain": [
              "Empty DataFrame\n",
              "Columns: [COD_UF, UF, REGIAO, NOMEMUN, SCO, TPM, DDM, SMM, POM, TPO, RSA, TXE, IDEBI, IDEBF, PIB, RFE, RER, DEM, OPNV, IMH, AUT, ESA, AVP, UVP, ESPVIDA, T_ENV, E_ANOSESTUDO, T_ANALF15M, GINI, PIND, PMPOB, PPOB, RDPC, T_AGUA, T_DENS, T_LIXO, T_LUZ, HOMEMTOT, MULHERTOT, PEA, pesoRUR, pesourb, IDHM, IDHM_E, IDHM_L, IDHM_R]\n",
              "Index: []"
            ]
          },
          "metadata": {},
          "execution_count": 10
        }
      ]
    },
    {
      "cell_type": "code",
      "metadata": {
        "id": "Si-h0S4FdQqL",
        "colab": {
          "base_uri": "https://localhost:8080/",
          "height": 100
        },
        "outputId": "13ee0869-7326-44c3-f871-f65a35ee08e6"
      },
      "source": [
        "#validando se o número total de homens+mulheres bate com o total da população\n",
        "df[(df['HOMEMTOT']+df['MULHERTOT']) !=df['TPM']]"
      ],
      "execution_count": 11,
      "outputs": [
        {
          "output_type": "execute_result",
          "data": {
            "text/html": [
              "<div>\n",
              "<style scoped>\n",
              "    .dataframe tbody tr th:only-of-type {\n",
              "        vertical-align: middle;\n",
              "    }\n",
              "\n",
              "    .dataframe tbody tr th {\n",
              "        vertical-align: top;\n",
              "    }\n",
              "\n",
              "    .dataframe thead th {\n",
              "        text-align: right;\n",
              "    }\n",
              "</style>\n",
              "<table border=\"1\" class=\"dataframe\">\n",
              "  <thead>\n",
              "    <tr style=\"text-align: right;\">\n",
              "      <th></th>\n",
              "      <th>COD_UF</th>\n",
              "      <th>UF</th>\n",
              "      <th>REGIAO</th>\n",
              "      <th>NOMEMUN</th>\n",
              "      <th>SCO</th>\n",
              "      <th>TPM</th>\n",
              "      <th>DDM</th>\n",
              "      <th>SMM</th>\n",
              "      <th>POM</th>\n",
              "      <th>TPO</th>\n",
              "      <th>RSA</th>\n",
              "      <th>TXE</th>\n",
              "      <th>IDEBI</th>\n",
              "      <th>IDEBF</th>\n",
              "      <th>PIB</th>\n",
              "      <th>RFE</th>\n",
              "      <th>RER</th>\n",
              "      <th>DEM</th>\n",
              "      <th>OPNV</th>\n",
              "      <th>IMH</th>\n",
              "      <th>AUT</th>\n",
              "      <th>ESA</th>\n",
              "      <th>AVP</th>\n",
              "      <th>UVP</th>\n",
              "      <th>ESPVIDA</th>\n",
              "      <th>T_ENV</th>\n",
              "      <th>E_ANOSESTUDO</th>\n",
              "      <th>T_ANALF15M</th>\n",
              "      <th>GINI</th>\n",
              "      <th>PIND</th>\n",
              "      <th>PMPOB</th>\n",
              "      <th>PPOB</th>\n",
              "      <th>RDPC</th>\n",
              "      <th>T_AGUA</th>\n",
              "      <th>T_DENS</th>\n",
              "      <th>T_LIXO</th>\n",
              "      <th>T_LUZ</th>\n",
              "      <th>HOMEMTOT</th>\n",
              "      <th>MULHERTOT</th>\n",
              "      <th>PEA</th>\n",
              "      <th>pesoRUR</th>\n",
              "      <th>pesourb</th>\n",
              "      <th>IDHM</th>\n",
              "      <th>IDHM_E</th>\n",
              "      <th>IDHM_L</th>\n",
              "      <th>IDHM_R</th>\n",
              "    </tr>\n",
              "    <tr>\n",
              "      <th>ID</th>\n",
              "      <th></th>\n",
              "      <th></th>\n",
              "      <th></th>\n",
              "      <th></th>\n",
              "      <th></th>\n",
              "      <th></th>\n",
              "      <th></th>\n",
              "      <th></th>\n",
              "      <th></th>\n",
              "      <th></th>\n",
              "      <th></th>\n",
              "      <th></th>\n",
              "      <th></th>\n",
              "      <th></th>\n",
              "      <th></th>\n",
              "      <th></th>\n",
              "      <th></th>\n",
              "      <th></th>\n",
              "      <th></th>\n",
              "      <th></th>\n",
              "      <th></th>\n",
              "      <th></th>\n",
              "      <th></th>\n",
              "      <th></th>\n",
              "      <th></th>\n",
              "      <th></th>\n",
              "      <th></th>\n",
              "      <th></th>\n",
              "      <th></th>\n",
              "      <th></th>\n",
              "      <th></th>\n",
              "      <th></th>\n",
              "      <th></th>\n",
              "      <th></th>\n",
              "      <th></th>\n",
              "      <th></th>\n",
              "      <th></th>\n",
              "      <th></th>\n",
              "      <th></th>\n",
              "      <th></th>\n",
              "      <th></th>\n",
              "      <th></th>\n",
              "      <th></th>\n",
              "      <th></th>\n",
              "      <th></th>\n",
              "      <th></th>\n",
              "    </tr>\n",
              "  </thead>\n",
              "  <tbody>\n",
              "  </tbody>\n",
              "</table>\n",
              "</div>"
            ],
            "text/plain": [
              "Empty DataFrame\n",
              "Columns: [COD_UF, UF, REGIAO, NOMEMUN, SCO, TPM, DDM, SMM, POM, TPO, RSA, TXE, IDEBI, IDEBF, PIB, RFE, RER, DEM, OPNV, IMH, AUT, ESA, AVP, UVP, ESPVIDA, T_ENV, E_ANOSESTUDO, T_ANALF15M, GINI, PIND, PMPOB, PPOB, RDPC, T_AGUA, T_DENS, T_LIXO, T_LUZ, HOMEMTOT, MULHERTOT, PEA, pesoRUR, pesourb, IDHM, IDHM_E, IDHM_L, IDHM_R]\n",
              "Index: []"
            ]
          },
          "metadata": {},
          "execution_count": 11
        }
      ]
    },
    {
      "cell_type": "code",
      "metadata": {
        "id": "_trK9efvdQqL",
        "colab": {
          "base_uri": "https://localhost:8080/",
          "height": 100
        },
        "outputId": "8cec155e-3fe6-40d5-b093-1f99fe78586c"
      },
      "source": [
        "#verificando se as colunas da raspagem de dados há dados duplicados:\n",
        "colunas=['TPM', 'DDM', 'SMM',\n",
        "       'POM', 'TPO', 'RSA', 'TXE', 'IDEBI', 'IDEBF', 'PIB', 'RFE', 'RER',\n",
        "       'DEM', 'OPNV', 'IMH', 'AUT', 'ESA', 'AVP', 'UVP']\n",
        "df[df.duplicated(colunas)==True]"
      ],
      "execution_count": 12,
      "outputs": [
        {
          "output_type": "execute_result",
          "data": {
            "text/html": [
              "<div>\n",
              "<style scoped>\n",
              "    .dataframe tbody tr th:only-of-type {\n",
              "        vertical-align: middle;\n",
              "    }\n",
              "\n",
              "    .dataframe tbody tr th {\n",
              "        vertical-align: top;\n",
              "    }\n",
              "\n",
              "    .dataframe thead th {\n",
              "        text-align: right;\n",
              "    }\n",
              "</style>\n",
              "<table border=\"1\" class=\"dataframe\">\n",
              "  <thead>\n",
              "    <tr style=\"text-align: right;\">\n",
              "      <th></th>\n",
              "      <th>COD_UF</th>\n",
              "      <th>UF</th>\n",
              "      <th>REGIAO</th>\n",
              "      <th>NOMEMUN</th>\n",
              "      <th>SCO</th>\n",
              "      <th>TPM</th>\n",
              "      <th>DDM</th>\n",
              "      <th>SMM</th>\n",
              "      <th>POM</th>\n",
              "      <th>TPO</th>\n",
              "      <th>RSA</th>\n",
              "      <th>TXE</th>\n",
              "      <th>IDEBI</th>\n",
              "      <th>IDEBF</th>\n",
              "      <th>PIB</th>\n",
              "      <th>RFE</th>\n",
              "      <th>RER</th>\n",
              "      <th>DEM</th>\n",
              "      <th>OPNV</th>\n",
              "      <th>IMH</th>\n",
              "      <th>AUT</th>\n",
              "      <th>ESA</th>\n",
              "      <th>AVP</th>\n",
              "      <th>UVP</th>\n",
              "      <th>ESPVIDA</th>\n",
              "      <th>T_ENV</th>\n",
              "      <th>E_ANOSESTUDO</th>\n",
              "      <th>T_ANALF15M</th>\n",
              "      <th>GINI</th>\n",
              "      <th>PIND</th>\n",
              "      <th>PMPOB</th>\n",
              "      <th>PPOB</th>\n",
              "      <th>RDPC</th>\n",
              "      <th>T_AGUA</th>\n",
              "      <th>T_DENS</th>\n",
              "      <th>T_LIXO</th>\n",
              "      <th>T_LUZ</th>\n",
              "      <th>HOMEMTOT</th>\n",
              "      <th>MULHERTOT</th>\n",
              "      <th>PEA</th>\n",
              "      <th>pesoRUR</th>\n",
              "      <th>pesourb</th>\n",
              "      <th>IDHM</th>\n",
              "      <th>IDHM_E</th>\n",
              "      <th>IDHM_L</th>\n",
              "      <th>IDHM_R</th>\n",
              "    </tr>\n",
              "    <tr>\n",
              "      <th>ID</th>\n",
              "      <th></th>\n",
              "      <th></th>\n",
              "      <th></th>\n",
              "      <th></th>\n",
              "      <th></th>\n",
              "      <th></th>\n",
              "      <th></th>\n",
              "      <th></th>\n",
              "      <th></th>\n",
              "      <th></th>\n",
              "      <th></th>\n",
              "      <th></th>\n",
              "      <th></th>\n",
              "      <th></th>\n",
              "      <th></th>\n",
              "      <th></th>\n",
              "      <th></th>\n",
              "      <th></th>\n",
              "      <th></th>\n",
              "      <th></th>\n",
              "      <th></th>\n",
              "      <th></th>\n",
              "      <th></th>\n",
              "      <th></th>\n",
              "      <th></th>\n",
              "      <th></th>\n",
              "      <th></th>\n",
              "      <th></th>\n",
              "      <th></th>\n",
              "      <th></th>\n",
              "      <th></th>\n",
              "      <th></th>\n",
              "      <th></th>\n",
              "      <th></th>\n",
              "      <th></th>\n",
              "      <th></th>\n",
              "      <th></th>\n",
              "      <th></th>\n",
              "      <th></th>\n",
              "      <th></th>\n",
              "      <th></th>\n",
              "      <th></th>\n",
              "      <th></th>\n",
              "      <th></th>\n",
              "      <th></th>\n",
              "      <th></th>\n",
              "    </tr>\n",
              "  </thead>\n",
              "  <tbody>\n",
              "  </tbody>\n",
              "</table>\n",
              "</div>"
            ],
            "text/plain": [
              "Empty DataFrame\n",
              "Columns: [COD_UF, UF, REGIAO, NOMEMUN, SCO, TPM, DDM, SMM, POM, TPO, RSA, TXE, IDEBI, IDEBF, PIB, RFE, RER, DEM, OPNV, IMH, AUT, ESA, AVP, UVP, ESPVIDA, T_ENV, E_ANOSESTUDO, T_ANALF15M, GINI, PIND, PMPOB, PPOB, RDPC, T_AGUA, T_DENS, T_LIXO, T_LUZ, HOMEMTOT, MULHERTOT, PEA, pesoRUR, pesourb, IDHM, IDHM_E, IDHM_L, IDHM_R]\n",
              "Index: []"
            ]
          },
          "metadata": {},
          "execution_count": 12
        }
      ]
    },
    {
      "cell_type": "markdown",
      "metadata": {
        "id": "h7nW9gQ6dQqL"
      },
      "source": [
        "Não foram verificados dados duplicados e/ou discrepantes entre as bases pesquisadas (Atlas Brasil e IBGE)."
      ]
    },
    {
      "cell_type": "markdown",
      "metadata": {
        "id": "y8Sv9g-8dQqL"
      },
      "source": [
        "## 2.3. Verificação de dados faltantes"
      ]
    },
    {
      "cell_type": "code",
      "metadata": {
        "id": "VZ5ZdB2HdQqL"
      },
      "source": [
        "#verificando dados faltantes (por atributo)\n",
        "nulos=df.isna().sum()"
      ],
      "execution_count": 13,
      "outputs": []
    },
    {
      "cell_type": "code",
      "metadata": {
        "id": "XBG2aCXtdQqM",
        "colab": {
          "base_uri": "https://localhost:8080/",
          "height": 0
        },
        "outputId": "84c89663-6aca-43cc-87cf-b8ebc9cd144c"
      },
      "source": [
        "plt.barh(nulos[nulos>0].index,nulos[nulos>0])\n",
        "plt.show()"
      ],
      "execution_count": 14,
      "outputs": [
        {
          "output_type": "display_data",
          "data": {
            "image/png": "[encoded data removed]",
            "text/plain": [
              "<Figure size 432x288 with 1 Axes>"
            ]
          },
          "metadata": {
            "needs_background": "light"
          }
        }
      ]
    },
    {
      "cell_type": "code",
      "metadata": {
        "id": "DCaUYBHDdQqM",
        "colab": {
          "base_uri": "https://localhost:8080/"
        },
        "outputId": "b435173b-7e02-4138-beda-0d4285b7e002"
      },
      "source": [
        "print(nulos[nulos>0])"
      ],
      "execution_count": 15,
      "outputs": [
        {
          "output_type": "stream",
          "name": "stdout",
          "text": [
            "IDEBI      92\n",
            "IDEBF     107\n",
            "RFE       568\n",
            "OPNV     1416\n",
            "IMH       450\n",
            "AVP        14\n",
            "dtype: int64\n"
          ]
        }
      ]
    },
    {
      "cell_type": "code",
      "metadata": {
        "id": "Y4C5Dt3ydQqM",
        "colab": {
          "base_uri": "https://localhost:8080/"
        },
        "outputId": "2dcb27a0-6871-4c34-cb8f-6f92235fcc7d"
      },
      "source": [
        "#Total de registros faltantes no dataset\n",
        "df.isna().sum().sum()"
      ],
      "execution_count": 16,
      "outputs": [
        {
          "output_type": "execute_result",
          "data": {
            "text/plain": [
              "2647"
            ]
          },
          "metadata": {},
          "execution_count": 16
        }
      ]
    },
    {
      "cell_type": "markdown",
      "metadata": {
        "id": "Q22EEjRWdQqM"
      },
      "source": [
        "Como alguns atributos apresentaram altas taxas de dados faltantes, optou-se por exclui-los do dataset ao invés de preenchê-los com a média ou moda para não criar vieses. Sendo assim, os atributos \"OPNV\", \"RFE\" e \"IMH\" foram retirados do dataset:"
      ]
    },
    {
      "cell_type": "code",
      "metadata": {
        "id": "bR1GNHIedQqM"
      },
      "source": [
        "df_original=df.copy()\n",
        "\n",
        "df.drop(columns=['OPNV','RFE','IMH'], inplace=True)"
      ],
      "execution_count": 17,
      "outputs": []
    },
    {
      "cell_type": "markdown",
      "metadata": {
        "id": "7iVm2DWcdQqM"
      },
      "source": [
        "Para os demais dados faltantes, o procedimento realizado foi o preenchimento de acordo com a média dos valores de cada atributos."
      ]
    },
    {
      "cell_type": "code",
      "metadata": {
        "id": "36fbbm0PdQqN"
      },
      "source": [
        "#preenchendo os dados faltantes com a média dos valores:\n",
        "df.fillna(df.mean(),inplace=True)"
      ],
      "execution_count": 18,
      "outputs": []
    },
    {
      "cell_type": "code",
      "metadata": {
        "id": "EZjiP-fDdQqN",
        "colab": {
          "base_uri": "https://localhost:8080/"
        },
        "outputId": "ab9c51e5-d069-46cb-c706-24a447080bc5"
      },
      "source": [
        "print(\"Total de dados faltantes após o tratamento:\", df.isna().sum().sum())\n",
        "print(df.isna().sum())"
      ],
      "execution_count": 19,
      "outputs": [
        {
          "output_type": "stream",
          "name": "stdout",
          "text": [
            "Total de dados faltantes após o tratamento: 0\n",
            "COD_UF          0\n",
            "UF              0\n",
            "REGIAO          0\n",
            "NOMEMUN         0\n",
            "SCO             0\n",
            "TPM             0\n",
            "DDM             0\n",
            "SMM             0\n",
            "POM             0\n",
            "TPO             0\n",
            "RSA             0\n",
            "TXE             0\n",
            "IDEBI           0\n",
            "IDEBF           0\n",
            "PIB             0\n",
            "RER             0\n",
            "DEM             0\n",
            "AUT             0\n",
            "ESA             0\n",
            "AVP             0\n",
            "UVP             0\n",
            "ESPVIDA         0\n",
            "T_ENV           0\n",
            "E_ANOSESTUDO    0\n",
            "T_ANALF15M      0\n",
            "GINI            0\n",
            "PIND            0\n",
            "PMPOB           0\n",
            "PPOB            0\n",
            "RDPC            0\n",
            "T_AGUA          0\n",
            "T_DENS          0\n",
            "T_LIXO          0\n",
            "T_LUZ           0\n",
            "HOMEMTOT        0\n",
            "MULHERTOT       0\n",
            "PEA             0\n",
            "pesoRUR         0\n",
            "pesourb         0\n",
            "IDHM            0\n",
            "IDHM_E          0\n",
            "IDHM_L          0\n",
            "IDHM_R          0\n",
            "dtype: int64\n"
          ]
        }
      ]
    },
    {
      "cell_type": "code",
      "metadata": {
        "id": "ug2x2r3ZdQqN",
        "colab": {
          "base_uri": "https://localhost:8080/"
        },
        "outputId": "19a2ae38-30bd-4a91-f46c-d19f7084634a"
      },
      "source": [
        "#Descrição da coluna de Score (GGI):\n",
        "df['SCO'].describe()"
      ],
      "execution_count": 20,
      "outputs": [
        {
          "output_type": "execute_result",
          "data": {
            "text/plain": [
              "count    5565.000000\n",
              "mean        0.748560\n",
              "std         0.036039\n",
              "min         0.487972\n",
              "25%         0.733116\n",
              "50%         0.754317\n",
              "75%         0.773103\n",
              "max         0.850899\n",
              "Name: SCO, dtype: float64"
            ]
          },
          "metadata": {},
          "execution_count": 20
        }
      ]
    },
    {
      "cell_type": "markdown",
      "metadata": {
        "id": "_xsBzZ46dQqN"
      },
      "source": [
        "## 2.5. Padronização dos dados"
      ]
    },
    {
      "cell_type": "markdown",
      "metadata": {
        "id": "relM-8G5dQqN"
      },
      "source": [
        "Com um dataset composto por diversos atributos de diferentes grandezas, outro tratamento necessário é a padronização dos dados. A padronização foi realizada em uma parte do dataset, que desconsidera os atributos categóricos."
      ]
    },
    {
      "cell_type": "code",
      "metadata": {
        "id": "MUyGWQpcAG99",
        "colab": {
          "base_uri": "https://localhost:8080/",
          "height": 0
        },
        "outputId": "949017db-9070-4352-fa67-da2e5e684799"
      },
      "source": [
        "df.iloc[:,4:]"
      ],
      "execution_count": 21,
      "outputs": [
        {
          "output_type": "execute_result",
          "data": {
            "text/html": [
              "<div>\n",
              "<style scoped>\n",
              "    .dataframe tbody tr th:only-of-type {\n",
              "        vertical-align: middle;\n",
              "    }\n",
              "\n",
              "    .dataframe tbody tr th {\n",
              "        vertical-align: top;\n",
              "    }\n",
              "\n",
              "    .dataframe thead th {\n",
              "        text-align: right;\n",
              "    }\n",
              "</style>\n",
              "<table border=\"1\" class=\"dataframe\">\n",
              "  <thead>\n",
              "    <tr style=\"text-align: right;\">\n",
              "      <th></th>\n",
              "      <th>SCO</th>\n",
              "      <th>TPM</th>\n",
              "      <th>DDM</th>\n",
              "      <th>SMM</th>\n",
              "      <th>POM</th>\n",
              "      <th>TPO</th>\n",
              "      <th>RSA</th>\n",
              "      <th>TXE</th>\n",
              "      <th>IDEBI</th>\n",
              "      <th>IDEBF</th>\n",
              "      <th>PIB</th>\n",
              "      <th>RER</th>\n",
              "      <th>DEM</th>\n",
              "      <th>AUT</th>\n",
              "      <th>ESA</th>\n",
              "      <th>AVP</th>\n",
              "      <th>UVP</th>\n",
              "      <th>ESPVIDA</th>\n",
              "      <th>T_ENV</th>\n",
              "      <th>E_ANOSESTUDO</th>\n",
              "      <th>T_ANALF15M</th>\n",
              "      <th>GINI</th>\n",
              "      <th>PIND</th>\n",
              "      <th>PMPOB</th>\n",
              "      <th>PPOB</th>\n",
              "      <th>RDPC</th>\n",
              "      <th>T_AGUA</th>\n",
              "      <th>T_DENS</th>\n",
              "      <th>T_LIXO</th>\n",
              "      <th>T_LUZ</th>\n",
              "      <th>HOMEMTOT</th>\n",
              "      <th>MULHERTOT</th>\n",
              "      <th>PEA</th>\n",
              "      <th>pesoRUR</th>\n",
              "      <th>pesourb</th>\n",
              "      <th>IDHM</th>\n",
              "      <th>IDHM_E</th>\n",
              "      <th>IDHM_L</th>\n",
              "      <th>IDHM_R</th>\n",
              "    </tr>\n",
              "    <tr>\n",
              "      <th>ID</th>\n",
              "      <th></th>\n",
              "      <th></th>\n",
              "      <th></th>\n",
              "      <th></th>\n",
              "      <th></th>\n",
              "      <th></th>\n",
              "      <th></th>\n",
              "      <th></th>\n",
              "      <th></th>\n",
              "      <th></th>\n",
              "      <th></th>\n",
              "      <th></th>\n",
              "      <th></th>\n",
              "      <th></th>\n",
              "      <th></th>\n",
              "      <th></th>\n",
              "      <th></th>\n",
              "      <th></th>\n",
              "      <th></th>\n",
              "      <th></th>\n",
              "      <th></th>\n",
              "      <th></th>\n",
              "      <th></th>\n",
              "      <th></th>\n",
              "      <th></th>\n",
              "      <th></th>\n",
              "      <th></th>\n",
              "      <th></th>\n",
              "      <th></th>\n",
              "      <th></th>\n",
              "      <th></th>\n",
              "      <th></th>\n",
              "      <th></th>\n",
              "      <th></th>\n",
              "      <th></th>\n",
              "      <th></th>\n",
              "      <th></th>\n",
              "      <th></th>\n",
              "      <th></th>\n",
              "    </tr>\n",
              "  </thead>\n",
              "  <tbody>\n",
              "    <tr>\n",
              "      <th>1100015</th>\n",
              "      <td>0.707630</td>\n",
              "      <td>24392</td>\n",
              "      <td>3.45</td>\n",
              "      <td>1.8</td>\n",
              "      <td>3271.0</td>\n",
              "      <td>14.1</td>\n",
              "      <td>41.8</td>\n",
              "      <td>95.7</td>\n",
              "      <td>6.2</td>\n",
              "      <td>4.8</td>\n",
              "      <td>19611.75</td>\n",
              "      <td>61193.26</td>\n",
              "      <td>63500.28</td>\n",
              "      <td>7067025.0</td>\n",
              "      <td>2.6</td>\n",
              "      <td>36.5</td>\n",
              "      <td>0.4</td>\n",
              "      <td>70.75</td>\n",
              "      <td>5.84</td>\n",
              "      <td>8.67</td>\n",
              "      <td>11.99</td>\n",
              "      <td>0.58</td>\n",
              "      <td>14.29</td>\n",
              "      <td>26.04</td>\n",
              "      <td>47.12</td>\n",
              "      <td>476.99</td>\n",
              "      <td>93.69</td>\n",
              "      <td>22.58</td>\n",
              "      <td>94.05</td>\n",
              "      <td>93.98</td>\n",
              "      <td>12656</td>\n",
              "      <td>11736</td>\n",
              "      <td>10611</td>\n",
              "      <td>10422</td>\n",
              "      <td>13970</td>\n",
              "      <td>0.641</td>\n",
              "      <td>0.526</td>\n",
              "      <td>0.763</td>\n",
              "      <td>0.657</td>\n",
              "    </tr>\n",
              "    <tr>\n",
              "      <th>1100023</th>\n",
              "      <td>0.751337</td>\n",
              "      <td>90353</td>\n",
              "      <td>20.41</td>\n",
              "      <td>2.0</td>\n",
              "      <td>19886.0</td>\n",
              "      <td>18.7</td>\n",
              "      <td>35.0</td>\n",
              "      <td>97.2</td>\n",
              "      <td>5.5</td>\n",
              "      <td>4.9</td>\n",
              "      <td>21389.67</td>\n",
              "      <td>235252.82</td>\n",
              "      <td>198489.65</td>\n",
              "      <td>4426571.0</td>\n",
              "      <td>8.6</td>\n",
              "      <td>33.8</td>\n",
              "      <td>5.1</td>\n",
              "      <td>73.36</td>\n",
              "      <td>4.36</td>\n",
              "      <td>9.18</td>\n",
              "      <td>7.90</td>\n",
              "      <td>0.53</td>\n",
              "      <td>4.36</td>\n",
              "      <td>11.54</td>\n",
              "      <td>29.04</td>\n",
              "      <td>689.95</td>\n",
              "      <td>98.54</td>\n",
              "      <td>27.15</td>\n",
              "      <td>96.72</td>\n",
              "      <td>98.58</td>\n",
              "      <td>45543</td>\n",
              "      <td>44810</td>\n",
              "      <td>45300</td>\n",
              "      <td>13828</td>\n",
              "      <td>76525</td>\n",
              "      <td>0.702</td>\n",
              "      <td>0.600</td>\n",
              "      <td>0.806</td>\n",
              "      <td>0.716</td>\n",
              "    </tr>\n",
              "    <tr>\n",
              "      <th>1100031</th>\n",
              "      <td>0.755332</td>\n",
              "      <td>6313</td>\n",
              "      <td>4.80</td>\n",
              "      <td>1.8</td>\n",
              "      <td>607.0</td>\n",
              "      <td>11.2</td>\n",
              "      <td>41.4</td>\n",
              "      <td>98.1</td>\n",
              "      <td>6.1</td>\n",
              "      <td>5.1</td>\n",
              "      <td>22315.80</td>\n",
              "      <td>21441.70</td>\n",
              "      <td>19269.95</td>\n",
              "      <td>1314352.0</td>\n",
              "      <td>22.1</td>\n",
              "      <td>1.0</td>\n",
              "      <td>0.0</td>\n",
              "      <td>70.39</td>\n",
              "      <td>6.87</td>\n",
              "      <td>10.09</td>\n",
              "      <td>13.63</td>\n",
              "      <td>0.51</td>\n",
              "      <td>7.27</td>\n",
              "      <td>21.20</td>\n",
              "      <td>46.98</td>\n",
              "      <td>457.17</td>\n",
              "      <td>95.49</td>\n",
              "      <td>19.93</td>\n",
              "      <td>99.14</td>\n",
              "      <td>96.36</td>\n",
              "      <td>3266</td>\n",
              "      <td>3047</td>\n",
              "      <td>2869</td>\n",
              "      <td>3620</td>\n",
              "      <td>2693</td>\n",
              "      <td>0.650</td>\n",
              "      <td>0.559</td>\n",
              "      <td>0.757</td>\n",
              "      <td>0.650</td>\n",
              "    </tr>\n",
              "    <tr>\n",
              "      <th>1100049</th>\n",
              "      <td>0.751092</td>\n",
              "      <td>78574</td>\n",
              "      <td>20.72</td>\n",
              "      <td>2.0</td>\n",
              "      <td>19942.0</td>\n",
              "      <td>23.5</td>\n",
              "      <td>35.6</td>\n",
              "      <td>97.6</td>\n",
              "      <td>6.3</td>\n",
              "      <td>5.1</td>\n",
              "      <td>24037.91</td>\n",
              "      <td>178701.03</td>\n",
              "      <td>172804.94</td>\n",
              "      <td>3792892.0</td>\n",
              "      <td>52.5</td>\n",
              "      <td>86.6</td>\n",
              "      <td>11.7</td>\n",
              "      <td>74.27</td>\n",
              "      <td>5.57</td>\n",
              "      <td>9.74</td>\n",
              "      <td>8.29</td>\n",
              "      <td>0.57</td>\n",
              "      <td>5.97</td>\n",
              "      <td>13.08</td>\n",
              "      <td>29.82</td>\n",
              "      <td>738.06</td>\n",
              "      <td>97.96</td>\n",
              "      <td>20.50</td>\n",
              "      <td>98.17</td>\n",
              "      <td>98.89</td>\n",
              "      <td>39124</td>\n",
              "      <td>39450</td>\n",
              "      <td>40083</td>\n",
              "      <td>16653</td>\n",
              "      <td>61921</td>\n",
              "      <td>0.718</td>\n",
              "      <td>0.620</td>\n",
              "      <td>0.821</td>\n",
              "      <td>0.727</td>\n",
              "    </tr>\n",
              "    <tr>\n",
              "      <th>1100056</th>\n",
              "      <td>0.750303</td>\n",
              "      <td>17029</td>\n",
              "      <td>6.12</td>\n",
              "      <td>2.0</td>\n",
              "      <td>2482.0</td>\n",
              "      <td>15.1</td>\n",
              "      <td>35.7</td>\n",
              "      <td>98.5</td>\n",
              "      <td>6.4</td>\n",
              "      <td>5.3</td>\n",
              "      <td>25009.71</td>\n",
              "      <td>48054.32</td>\n",
              "      <td>42293.05</td>\n",
              "      <td>2783.3</td>\n",
              "      <td>17.1</td>\n",
              "      <td>36.2</td>\n",
              "      <td>2.0</td>\n",
              "      <td>72.94</td>\n",
              "      <td>6.44</td>\n",
              "      <td>10.22</td>\n",
              "      <td>10.29</td>\n",
              "      <td>0.50</td>\n",
              "      <td>4.72</td>\n",
              "      <td>13.70</td>\n",
              "      <td>34.85</td>\n",
              "      <td>577.18</td>\n",
              "      <td>97.53</td>\n",
              "      <td>16.66</td>\n",
              "      <td>91.89</td>\n",
              "      <td>98.85</td>\n",
              "      <td>8551</td>\n",
              "      <td>8478</td>\n",
              "      <td>8699</td>\n",
              "      <td>2610</td>\n",
              "      <td>14419</td>\n",
              "      <td>0.692</td>\n",
              "      <td>0.602</td>\n",
              "      <td>0.799</td>\n",
              "      <td>0.688</td>\n",
              "    </tr>\n",
              "    <tr>\n",
              "      <th>...</th>\n",
              "      <td>...</td>\n",
              "      <td>...</td>\n",
              "      <td>...</td>\n",
              "      <td>...</td>\n",
              "      <td>...</td>\n",
              "      <td>...</td>\n",
              "      <td>...</td>\n",
              "      <td>...</td>\n",
              "      <td>...</td>\n",
              "      <td>...</td>\n",
              "      <td>...</td>\n",
              "      <td>...</td>\n",
              "      <td>...</td>\n",
              "      <td>...</td>\n",
              "      <td>...</td>\n",
              "      <td>...</td>\n",
              "      <td>...</td>\n",
              "      <td>...</td>\n",
              "      <td>...</td>\n",
              "      <td>...</td>\n",
              "      <td>...</td>\n",
              "      <td>...</td>\n",
              "      <td>...</td>\n",
              "      <td>...</td>\n",
              "      <td>...</td>\n",
              "      <td>...</td>\n",
              "      <td>...</td>\n",
              "      <td>...</td>\n",
              "      <td>...</td>\n",
              "      <td>...</td>\n",
              "      <td>...</td>\n",
              "      <td>...</td>\n",
              "      <td>...</td>\n",
              "      <td>...</td>\n",
              "      <td>...</td>\n",
              "      <td>...</td>\n",
              "      <td>...</td>\n",
              "      <td>...</td>\n",
              "      <td>...</td>\n",
              "    </tr>\n",
              "    <tr>\n",
              "      <th>5222005</th>\n",
              "      <td>0.736929</td>\n",
              "      <td>12548</td>\n",
              "      <td>13.15</td>\n",
              "      <td>2.1</td>\n",
              "      <td>2317.0</td>\n",
              "      <td>16.9</td>\n",
              "      <td>31.7</td>\n",
              "      <td>98.6</td>\n",
              "      <td>6.4</td>\n",
              "      <td>5.4</td>\n",
              "      <td>28942.36</td>\n",
              "      <td>45423.48</td>\n",
              "      <td>44429.56</td>\n",
              "      <td>954284.0</td>\n",
              "      <td>16.9</td>\n",
              "      <td>80.6</td>\n",
              "      <td>3.0</td>\n",
              "      <td>74.10</td>\n",
              "      <td>7.17</td>\n",
              "      <td>10.11</td>\n",
              "      <td>7.97</td>\n",
              "      <td>0.46</td>\n",
              "      <td>0.70</td>\n",
              "      <td>5.85</td>\n",
              "      <td>23.73</td>\n",
              "      <td>664.33</td>\n",
              "      <td>86.89</td>\n",
              "      <td>12.55</td>\n",
              "      <td>99.32</td>\n",
              "      <td>99.83</td>\n",
              "      <td>6297</td>\n",
              "      <td>6251</td>\n",
              "      <td>6657</td>\n",
              "      <td>3378</td>\n",
              "      <td>9170</td>\n",
              "      <td>0.712</td>\n",
              "      <td>0.622</td>\n",
              "      <td>0.818</td>\n",
              "      <td>0.710</td>\n",
              "    </tr>\n",
              "    <tr>\n",
              "      <th>5222054</th>\n",
              "      <td>0.758423</td>\n",
              "      <td>7371</td>\n",
              "      <td>10.00</td>\n",
              "      <td>2.7</td>\n",
              "      <td>1923.0</td>\n",
              "      <td>22.3</td>\n",
              "      <td>33.0</td>\n",
              "      <td>99.1</td>\n",
              "      <td>6.7</td>\n",
              "      <td>5.8</td>\n",
              "      <td>41772.71</td>\n",
              "      <td>35433.16</td>\n",
              "      <td>29294.84</td>\n",
              "      <td>737255.0</td>\n",
              "      <td>3.3</td>\n",
              "      <td>29.0</td>\n",
              "      <td>1.8</td>\n",
              "      <td>73.25</td>\n",
              "      <td>5.49</td>\n",
              "      <td>10.07</td>\n",
              "      <td>12.68</td>\n",
              "      <td>0.46</td>\n",
              "      <td>2.62</td>\n",
              "      <td>6.62</td>\n",
              "      <td>23.14</td>\n",
              "      <td>651.07</td>\n",
              "      <td>98.60</td>\n",
              "      <td>16.12</td>\n",
              "      <td>98.78</td>\n",
              "      <td>99.70</td>\n",
              "      <td>3873</td>\n",
              "      <td>3498</td>\n",
              "      <td>3922</td>\n",
              "      <td>1050</td>\n",
              "      <td>6321</td>\n",
              "      <td>0.684</td>\n",
              "      <td>0.562</td>\n",
              "      <td>0.804</td>\n",
              "      <td>0.707</td>\n",
              "    </tr>\n",
              "    <tr>\n",
              "      <th>5222203</th>\n",
              "      <td>0.746885</td>\n",
              "      <td>4735</td>\n",
              "      <td>4.47</td>\n",
              "      <td>1.9</td>\n",
              "      <td>885.0</td>\n",
              "      <td>14.7</td>\n",
              "      <td>38.0</td>\n",
              "      <td>96.0</td>\n",
              "      <td>5.0</td>\n",
              "      <td>4.1</td>\n",
              "      <td>23992.38</td>\n",
              "      <td>19158.84</td>\n",
              "      <td>19158.84</td>\n",
              "      <td>1060172.0</td>\n",
              "      <td>25.3</td>\n",
              "      <td>28.8</td>\n",
              "      <td>0.0</td>\n",
              "      <td>74.07</td>\n",
              "      <td>4.05</td>\n",
              "      <td>10.49</td>\n",
              "      <td>15.88</td>\n",
              "      <td>0.48</td>\n",
              "      <td>9.16</td>\n",
              "      <td>23.61</td>\n",
              "      <td>52.51</td>\n",
              "      <td>376.72</td>\n",
              "      <td>85.25</td>\n",
              "      <td>34.54</td>\n",
              "      <td>99.21</td>\n",
              "      <td>99.78</td>\n",
              "      <td>2588</td>\n",
              "      <td>2147</td>\n",
              "      <td>2008</td>\n",
              "      <td>1233</td>\n",
              "      <td>3502</td>\n",
              "      <td>0.647</td>\n",
              "      <td>0.534</td>\n",
              "      <td>0.818</td>\n",
              "      <td>0.619</td>\n",
              "    </tr>\n",
              "    <tr>\n",
              "      <th>5222302</th>\n",
              "      <td>0.751993</td>\n",
              "      <td>5145</td>\n",
              "      <td>2.36</td>\n",
              "      <td>1.6</td>\n",
              "      <td>857.0</td>\n",
              "      <td>14.9</td>\n",
              "      <td>46.2</td>\n",
              "      <td>96.9</td>\n",
              "      <td>7.0</td>\n",
              "      <td>5.4</td>\n",
              "      <td>32016.61</td>\n",
              "      <td>20688.30</td>\n",
              "      <td>19046.56</td>\n",
              "      <td>2181583.0</td>\n",
              "      <td>7.1</td>\n",
              "      <td>86.7</td>\n",
              "      <td>0.0</td>\n",
              "      <td>73.09</td>\n",
              "      <td>7.06</td>\n",
              "      <td>9.46</td>\n",
              "      <td>19.25</td>\n",
              "      <td>0.47</td>\n",
              "      <td>9.72</td>\n",
              "      <td>19.77</td>\n",
              "      <td>45.09</td>\n",
              "      <td>401.84</td>\n",
              "      <td>77.94</td>\n",
              "      <td>29.16</td>\n",
              "      <td>100.00</td>\n",
              "      <td>97.59</td>\n",
              "      <td>2689</td>\n",
              "      <td>2456</td>\n",
              "      <td>2200</td>\n",
              "      <td>3641</td>\n",
              "      <td>1504</td>\n",
              "      <td>0.634</td>\n",
              "      <td>0.505</td>\n",
              "      <td>0.802</td>\n",
              "      <td>0.629</td>\n",
              "    </tr>\n",
              "    <tr>\n",
              "      <th>5300108</th>\n",
              "      <td>0.775501</td>\n",
              "      <td>2570160</td>\n",
              "      <td>444.66</td>\n",
              "      <td>5.5</td>\n",
              "      <td>1352143.0</td>\n",
              "      <td>45.5</td>\n",
              "      <td>30.9</td>\n",
              "      <td>97.5</td>\n",
              "      <td>6.0</td>\n",
              "      <td>4.3</td>\n",
              "      <td>80502.47</td>\n",
              "      <td>1000.00</td>\n",
              "      <td>1000.00</td>\n",
              "      <td>5760783.0</td>\n",
              "      <td>87.9</td>\n",
              "      <td>36.9</td>\n",
              "      <td>57.0</td>\n",
              "      <td>77.35</td>\n",
              "      <td>4.97</td>\n",
              "      <td>9.87</td>\n",
              "      <td>3.47</td>\n",
              "      <td>0.63</td>\n",
              "      <td>1.19</td>\n",
              "      <td>4.93</td>\n",
              "      <td>16.00</td>\n",
              "      <td>1715.11</td>\n",
              "      <td>98.13</td>\n",
              "      <td>23.48</td>\n",
              "      <td>98.87</td>\n",
              "      <td>99.91</td>\n",
              "      <td>1228880</td>\n",
              "      <td>1341280</td>\n",
              "      <td>1408410</td>\n",
              "      <td>87950</td>\n",
              "      <td>2482210</td>\n",
              "      <td>0.824</td>\n",
              "      <td>0.742</td>\n",
              "      <td>0.873</td>\n",
              "      <td>0.863</td>\n",
              "    </tr>\n",
              "  </tbody>\n",
              "</table>\n",
              "<p>5565 rows × 39 columns</p>\n",
              "</div>"
            ],
            "text/plain": [
              "              SCO      TPM     DDM  SMM  ...   IDHM  IDHM_E  IDHM_L  IDHM_R\n",
              "ID                                       ...                               \n",
              "1100015  0.707630    24392    3.45  1.8  ...  0.641   0.526   0.763   0.657\n",
              "1100023  0.751337    90353   20.41  2.0  ...  0.702   0.600   0.806   0.716\n",
              "1100031  0.755332     6313    4.80  1.8  ...  0.650   0.559   0.757   0.650\n",
              "1100049  0.751092    78574   20.72  2.0  ...  0.718   0.620   0.821   0.727\n",
              "1100056  0.750303    17029    6.12  2.0  ...  0.692   0.602   0.799   0.688\n",
              "...           ...      ...     ...  ...  ...    ...     ...     ...     ...\n",
              "5222005  0.736929    12548   13.15  2.1  ...  0.712   0.622   0.818   0.710\n",
              "5222054  0.758423     7371   10.00  2.7  ...  0.684   0.562   0.804   0.707\n",
              "5222203  0.746885     4735    4.47  1.9  ...  0.647   0.534   0.818   0.619\n",
              "5222302  0.751993     5145    2.36  1.6  ...  0.634   0.505   0.802   0.629\n",
              "5300108  0.775501  2570160  444.66  5.5  ...  0.824   0.742   0.873   0.863\n",
              "\n",
              "[5565 rows x 39 columns]"
            ]
          },
          "metadata": {},
          "execution_count": 21
        }
      ]
    },
    {
      "cell_type": "code",
      "metadata": {
        "id": "A_Y0t0V6dQqN",
        "colab": {
          "base_uri": "https://localhost:8080/"
        },
        "outputId": "c4f06590-8015-4225-a117-de62397b6854"
      },
      "source": [
        "from sklearn.preprocessing import StandardScaler\n",
        "\n",
        "\n",
        "# Separando os valores no Dataset\n",
        "p = df.iloc[:,4:]\n",
        "colunas=p.columns\n",
        "\n",
        "\n",
        "# padronizando os atributos\n",
        "p = StandardScaler().fit_transform(p)\n",
        "\n",
        "print(p)\n"
      ],
      "execution_count": 22,
      "outputs": [
        {
          "output_type": "stream",
          "name": "stdout",
          "text": [
            "[[-1.13583491e+00 -4.86757535e-02 -1.83112875e-01 ... -3.54631450e-01\n",
            "  -8.63185844e-01  1.75153000e-01]\n",
            " [ 7.70560519e-02  2.76104294e-01 -1.53465925e-01 ...  4.38344405e-01\n",
            "   9.92813946e-02  9.06668980e-01]\n",
            " [ 1.87936930e-01 -1.37693483e-01 -1.80753006e-01 ... -1.00708184e-03\n",
            "  -9.97483598e-01  8.83629686e-02]\n",
            " ...\n",
            " [-4.64716574e-02 -1.45463270e-01 -1.81329863e-01 ... -2.68904330e-01\n",
            "   3.67876903e-01 -2.95992885e-01]\n",
            " [ 9.52792836e-02 -1.43444504e-01 -1.85018251e-01 ... -5.79665138e-01\n",
            "   9.74955844e-03 -1.72007126e-01]\n",
            " [ 7.47626280e-01  1.24862260e+01  5.88144826e-01 ...  1.96000078e+00\n",
            "   1.59893965e+00  2.72925964e+00]]\n"
          ]
        }
      ]
    },
    {
      "cell_type": "code",
      "metadata": {
        "id": "qfA6l8fvdQqN"
      },
      "source": [
        "df_p=pd.DataFrame(p, columns=colunas, index=df.index)"
      ],
      "execution_count": 23,
      "outputs": []
    },
    {
      "cell_type": "markdown",
      "metadata": {
        "id": "VljtmRkbdQqN"
      },
      "source": [
        "# 3. Aplicação dos modelos"
      ]
    },
    {
      "cell_type": "markdown",
      "metadata": {
        "id": "7XvSKn4YdQqO"
      },
      "source": [
        "Neste capítulo são apresentadas as aplicações dos algoritmos, métricas e otimizações utilizadas."
      ]
    },
    {
      "cell_type": "markdown",
      "metadata": {
        "id": "SMurXil3dQqO"
      },
      "source": [
        "## 3.1. Otimização de hiperparâmetros"
      ]
    },
    {
      "cell_type": "code",
      "metadata": {
        "id": "zNTvT901dQqO"
      },
      "source": [
        "from sklearn import cluster, metrics"
      ],
      "execution_count": 24,
      "outputs": []
    },
    {
      "cell_type": "code",
      "metadata": {
        "id": "9h8V2ABddQqO"
      },
      "source": [
        "def best_cluster(algorithm_name, X, upK,downK=1):\n",
        "    list_n_k=[]\n",
        "    list_silh=[]\n",
        "    \n",
        "    silh_max=-1e12\n",
        "    k_silh_max=0\n",
        "    \n",
        "    if algorithm_name=='KMeans':\n",
        "        algorithm=cluster.KMeans(n_clusters=1)\n",
        "        \n",
        "    elif algorithm_name=='Ward':\n",
        "        algorithm=cluster.AgglomerativeClustering(n_clusters=1, linkage='ward')\n",
        "        \n",
        "    else: \n",
        "        print('Algoritmo inválido')\n",
        "        return 0\n",
        "    \n",
        "    for iterator in range(downK,upK+1):\n",
        "        \n",
        "        if iterator==1:\n",
        "            list_n_k.append(1)\n",
        "            list_silh.append(0)\n",
        "            continue\n",
        "        \n",
        "        algorithm.n_clusters=iterator \n",
        "        \n",
        "        cluster_labels=algorithm.fit_predict(X)\n",
        "        \n",
        "        list_n_k.append(iterator)\n",
        "        silh=metrics.silhouette_score(X,cluster_labels)\n",
        "        list_silh.append(silh)\n",
        "        \n",
        "        if silh>silh_max:\n",
        "            silh_max= silh\n",
        "            k_silh_max=iterator\n",
        "    \n",
        "    \n",
        "    plt.figure()\n",
        "        \n",
        "    plt.title(\"Busca do silhouette ótimo - \"+algorithm_name)\n",
        "    plt.grid()\n",
        "        \n",
        "    plt.plot(list_n_k, list_silh) \n",
        "        \n",
        "    return print(algorithm_name,\" - Número de clusters ideais considerando a métrica silhouette: \", k_silh_max)"
      ],
      "execution_count": 25,
      "outputs": []
    },
    {
      "cell_type": "markdown",
      "metadata": {
        "id": "7P-DxqQ0dQqO"
      },
      "source": [
        "### 3.1.1 - Número de Clusters: K-Means "
      ]
    },
    {
      "cell_type": "markdown",
      "metadata": {
        "id": "7O9rH4-kdQqO"
      },
      "source": [
        "Utilizando a métrica Silhouette para avaliação do número ideal de clusters no algoritmo KMeans, temos que o melhor valor encontrado sugere um k=3"
      ]
    },
    {
      "cell_type": "code",
      "metadata": {
        "id": "rydizi3HdQqO",
        "colab": {
          "base_uri": "https://localhost:8080/",
          "height": 0
        },
        "outputId": "e6feb84a-c733-4054-879b-90ca0eaffad5"
      },
      "source": [
        "best_cluster(\"KMeans\",p, 15)"
      ],
      "execution_count": 26,
      "outputs": [
        {
          "output_type": "stream",
          "name": "stdout",
          "text": [
            "KMeans  - Número de clusters ideais considerando a métrica silhouette:  3\n"
          ]
        },
        {
          "output_type": "display_data",
          "data": {
            "image/png": "[encoded data removed]",
            "text/plain": [
              "<Figure size 432x288 with 1 Axes>"
            ]
          },
          "metadata": {
            "needs_background": "light"
          }
        }
      ]
    },
    {
      "cell_type": "markdown",
      "metadata": {
        "id": "diLhhevgdQqO"
      },
      "source": [
        "Outra forma de avaliação para o número de clusters é a avaliação através do \"Método Elbow\", que avalia o somatório dos erros quadráticos das instâncias de cada cluster. Neste método, podemos observar que o número de clusters ideais também sugere k=3."
      ]
    },
    {
      "cell_type": "code",
      "metadata": {
        "id": "mpbb5pbHdQqP",
        "colab": {
          "base_uri": "https://localhost:8080/",
          "height": 0
        },
        "outputId": "1056c000-98c4-4b21-ccf8-33591bde0f5c"
      },
      "source": [
        "from sklearn.cluster import KMeans\n",
        "wcss = []\n",
        " \n",
        "for i in range(1, 15):\n",
        "    kmeans = KMeans(n_clusters = i, random_state=10)\n",
        "    kmeans.fit(p)\n",
        "    print (i,kmeans.inertia_)\n",
        "    wcss.append(kmeans.inertia_)  \n",
        "plt.plot(range(1, 15), wcss)\n",
        "plt.title('O Metodo Elbow')\n",
        "plt.grid()\n",
        "plt.xlabel('Numero de Clusters')\n",
        "plt.ylabel('WCSS')\n",
        "plt.show()"
      ],
      "execution_count": 27,
      "outputs": [
        {
          "output_type": "stream",
          "name": "stdout",
          "text": [
            "1 217035.0\n",
            "2 153398.51206191388\n",
            "3 122310.96624784307\n",
            "4 112485.80342352523\n",
            "5 104316.40902498196\n",
            "6 97216.98017841746\n",
            "7 93391.90166154955\n",
            "8 89965.90732436308\n",
            "9 86831.79488034916\n",
            "10 84315.54824675532\n",
            "11 82496.97094903399\n",
            "12 80519.13215228643\n",
            "13 77911.72896842306\n",
            "14 75337.1824917744\n"
          ]
        },
        {
          "output_type": "display_data",
          "data": {
            "image/png": "[encoded data removed]",
            "text/plain": [
              "<Figure size 432x288 with 1 Axes>"
            ]
          },
          "metadata": {
            "needs_background": "light"
          }
        }
      ]
    },
    {
      "cell_type": "markdown",
      "metadata": {
        "id": "anQTDjPadQqQ"
      },
      "source": [
        "### 3.1.2 - Número de Clusters: Clustering Hierárquico"
      ]
    },
    {
      "cell_type": "markdown",
      "metadata": {
        "id": "a7q3V02qdQqQ"
      },
      "source": [
        "Outra abordagem é a utilização de algoritmos de clustering hierárquico. Neste trabalho utilizou-se a abordagem aglomerativa com o critério \"Ward\", que minimiza a variância dos clusters mesclados. \n",
        "Ao aplicarmos a otimização de hiperparâmetros de acordo com a métrica silhouette, verificou-se que o número de clusters ótimo é 3."
      ]
    },
    {
      "cell_type": "code",
      "metadata": {
        "id": "P6X_SXS6dQqQ",
        "colab": {
          "base_uri": "https://localhost:8080/",
          "height": 0
        },
        "outputId": "2b91c676-1dc3-4128-d5f8-8dd58d58ee85"
      },
      "source": [
        "best_cluster(\"Ward\",p, 15)"
      ],
      "execution_count": 28,
      "outputs": [
        {
          "output_type": "stream",
          "name": "stdout",
          "text": [
            "Ward  - Número de clusters ideais considerando a métrica silhouette:  3\n"
          ]
        },
        {
          "output_type": "display_data",
          "data": {
            "image/png": "[encoded data removed]",
            "text/plain": [
              "<Figure size 432x288 with 1 Axes>"
            ]
          },
          "metadata": {
            "needs_background": "light"
          }
        }
      ]
    },
    {
      "cell_type": "markdown",
      "metadata": {
        "id": "UJOxNl9XdQqQ"
      },
      "source": [
        "## 3.2. Aplicação do K-Means para dados padronizados"
      ]
    },
    {
      "cell_type": "markdown",
      "metadata": {
        "id": "R1_0Yyz-dQqQ"
      },
      "source": [
        "Com as avaliações no item 3.1.1, foi identificado que o número de clusters ideais para aplicação do KMeans neste dataset é 3."
      ]
    },
    {
      "cell_type": "code",
      "metadata": {
        "id": "cOJ9Ar5SdQqR",
        "colab": {
          "base_uri": "https://localhost:8080/"
        },
        "outputId": "050c9e6b-9ca8-4634-86b9-c8618c53d838"
      },
      "source": [
        "kmeans = KMeans(n_clusters = 3, random_state=10)\n",
        "\n",
        "kmeans.fit(p)"
      ],
      "execution_count": 29,
      "outputs": [
        {
          "output_type": "execute_result",
          "data": {
            "text/plain": [
              "KMeans(algorithm='auto', copy_x=True, init='k-means++', max_iter=300,\n",
              "       n_clusters=3, n_init=10, n_jobs=None, precompute_distances='auto',\n",
              "       random_state=10, tol=0.0001, verbose=0)"
            ]
          },
          "metadata": {},
          "execution_count": 29
        }
      ]
    },
    {
      "cell_type": "code",
      "metadata": {
        "id": "mvfLb1ebdQqR"
      },
      "source": [
        "distance = kmeans.fit_transform(p)"
      ],
      "execution_count": 30,
      "outputs": []
    },
    {
      "cell_type": "code",
      "metadata": {
        "id": "JzxW-pv1dQqR",
        "colab": {
          "base_uri": "https://localhost:8080/"
        },
        "outputId": "dd893c73-f8b3-4d0b-847f-07af3070106a"
      },
      "source": [
        "labels = kmeans.labels_\n",
        "pl=labels\n",
        "pl"
      ],
      "execution_count": 31,
      "outputs": [
        {
          "output_type": "execute_result",
          "data": {
            "text/plain": [
              "array([0, 1, 1, ..., 0, 1, 1], dtype=int32)"
            ]
          },
          "metadata": {},
          "execution_count": 31
        }
      ]
    },
    {
      "cell_type": "markdown",
      "metadata": {
        "id": "xRv92hk4dQqR"
      },
      "source": [
        "Observando o resultado do algoritmo, temos que somente duas instâncias foram agrupadas no cluster 2:"
      ]
    },
    {
      "cell_type": "code",
      "metadata": {
        "id": "tYzkZntfdQqR",
        "colab": {
          "base_uri": "https://localhost:8080/"
        },
        "outputId": "e31ab80a-3906-4b99-d568-24f546a620dc"
      },
      "source": [
        "df_kmeans=df.copy()\n",
        "df_kmeans['Cluster']=pd.Series(pl).values\n",
        "df_kmeans['Cluster'].value_counts()"
      ],
      "execution_count": 32,
      "outputs": [
        {
          "output_type": "execute_result",
          "data": {
            "text/plain": [
              "1    3141\n",
              "0    2422\n",
              "2       2\n",
              "Name: Cluster, dtype: int64"
            ]
          },
          "metadata": {},
          "execution_count": 32
        }
      ]
    },
    {
      "cell_type": "markdown",
      "metadata": {
        "id": "OTrYWME1dQqR"
      },
      "source": [
        "As duas instâncias que foram agrupadas no cluster 2 foram Rio de Janeiro e São Paulo:"
      ]
    },
    {
      "cell_type": "code",
      "metadata": {
        "id": "3K6b0kKsdQqR",
        "colab": {
          "base_uri": "https://localhost:8080/",
          "height": 142
        },
        "outputId": "1eb0bcbc-8bdc-4fa3-a60e-b7c0dd2ea18e"
      },
      "source": [
        "df_kmeans[df_kmeans['Cluster']==2][['UF','NOMEMUN','Cluster']]"
      ],
      "execution_count": 33,
      "outputs": [
        {
          "output_type": "execute_result",
          "data": {
            "text/html": [
              "<div>\n",
              "<style scoped>\n",
              "    .dataframe tbody tr th:only-of-type {\n",
              "        vertical-align: middle;\n",
              "    }\n",
              "\n",
              "    .dataframe tbody tr th {\n",
              "        vertical-align: top;\n",
              "    }\n",
              "\n",
              "    .dataframe thead th {\n",
              "        text-align: right;\n",
              "    }\n",
              "</style>\n",
              "<table border=\"1\" class=\"dataframe\">\n",
              "  <thead>\n",
              "    <tr style=\"text-align: right;\">\n",
              "      <th></th>\n",
              "      <th>UF</th>\n",
              "      <th>NOMEMUN</th>\n",
              "      <th>Cluster</th>\n",
              "    </tr>\n",
              "    <tr>\n",
              "      <th>ID</th>\n",
              "      <th></th>\n",
              "      <th></th>\n",
              "      <th></th>\n",
              "    </tr>\n",
              "  </thead>\n",
              "  <tbody>\n",
              "    <tr>\n",
              "      <th>3304557</th>\n",
              "      <td>RJ</td>\n",
              "      <td>RIO DE JANEIRO</td>\n",
              "      <td>2</td>\n",
              "    </tr>\n",
              "    <tr>\n",
              "      <th>3550308</th>\n",
              "      <td>SP</td>\n",
              "      <td>SÃO PAULO</td>\n",
              "      <td>2</td>\n",
              "    </tr>\n",
              "  </tbody>\n",
              "</table>\n",
              "</div>"
            ],
            "text/plain": [
              "         UF         NOMEMUN  Cluster\n",
              "ID                                  \n",
              "3304557  RJ  RIO DE JANEIRO        2\n",
              "3550308  SP       SÃO PAULO        2"
            ]
          },
          "metadata": {},
          "execution_count": 33
        }
      ]
    },
    {
      "cell_type": "markdown",
      "metadata": {
        "id": "TiPxQce4dQqR"
      },
      "source": [
        "Podemos observar tambem que regiões Norte e Nordeste possuem a maioria dos seus municípios classificados como Cluster 0, enquanto que nas demais regiões, a maioria dos municipios foi classificada como Cluster 1"
      ]
    },
    {
      "cell_type": "code",
      "metadata": {
        "id": "auq02G0wdQqR",
        "colab": {
          "base_uri": "https://localhost:8080/",
          "height": 418
        },
        "outputId": "4c8bfeb0-203e-4d09-deb4-220319a36096"
      },
      "source": [
        "df_kmeans[['REGIAO','Cluster','NOMEMUN']].groupby(['REGIAO','Cluster']).count()"
      ],
      "execution_count": 34,
      "outputs": [
        {
          "output_type": "execute_result",
          "data": {
            "text/html": [
              "<div>\n",
              "<style scoped>\n",
              "    .dataframe tbody tr th:only-of-type {\n",
              "        vertical-align: middle;\n",
              "    }\n",
              "\n",
              "    .dataframe tbody tr th {\n",
              "        vertical-align: top;\n",
              "    }\n",
              "\n",
              "    .dataframe thead th {\n",
              "        text-align: right;\n",
              "    }\n",
              "</style>\n",
              "<table border=\"1\" class=\"dataframe\">\n",
              "  <thead>\n",
              "    <tr style=\"text-align: right;\">\n",
              "      <th></th>\n",
              "      <th></th>\n",
              "      <th>NOMEMUN</th>\n",
              "    </tr>\n",
              "    <tr>\n",
              "      <th>REGIAO</th>\n",
              "      <th>Cluster</th>\n",
              "      <th></th>\n",
              "    </tr>\n",
              "  </thead>\n",
              "  <tbody>\n",
              "    <tr>\n",
              "      <th rowspan=\"2\" valign=\"top\">Centro-Oeste</th>\n",
              "      <th>0</th>\n",
              "      <td>52</td>\n",
              "    </tr>\n",
              "    <tr>\n",
              "      <th>1</th>\n",
              "      <td>336</td>\n",
              "    </tr>\n",
              "    <tr>\n",
              "      <th rowspan=\"2\" valign=\"top\">Nordeste</th>\n",
              "      <th>0</th>\n",
              "      <td>1709</td>\n",
              "    </tr>\n",
              "    <tr>\n",
              "      <th>1</th>\n",
              "      <td>85</td>\n",
              "    </tr>\n",
              "    <tr>\n",
              "      <th rowspan=\"2\" valign=\"top\">Norte</th>\n",
              "      <th>0</th>\n",
              "      <td>384</td>\n",
              "    </tr>\n",
              "    <tr>\n",
              "      <th>1</th>\n",
              "      <td>65</td>\n",
              "    </tr>\n",
              "    <tr>\n",
              "      <th rowspan=\"3\" valign=\"top\">Sudeste</th>\n",
              "      <th>0</th>\n",
              "      <td>230</td>\n",
              "    </tr>\n",
              "    <tr>\n",
              "      <th>1</th>\n",
              "      <td>1436</td>\n",
              "    </tr>\n",
              "    <tr>\n",
              "      <th>2</th>\n",
              "      <td>2</td>\n",
              "    </tr>\n",
              "    <tr>\n",
              "      <th rowspan=\"2\" valign=\"top\">Sul</th>\n",
              "      <th>0</th>\n",
              "      <td>47</td>\n",
              "    </tr>\n",
              "    <tr>\n",
              "      <th>1</th>\n",
              "      <td>1219</td>\n",
              "    </tr>\n",
              "  </tbody>\n",
              "</table>\n",
              "</div>"
            ],
            "text/plain": [
              "                      NOMEMUN\n",
              "REGIAO       Cluster         \n",
              "Centro-Oeste 0             52\n",
              "             1            336\n",
              "Nordeste     0           1709\n",
              "             1             85\n",
              "Norte        0            384\n",
              "             1             65\n",
              "Sudeste      0            230\n",
              "             1           1436\n",
              "             2              2\n",
              "Sul          0             47\n",
              "             1           1219"
            ]
          },
          "metadata": {},
          "execution_count": 34
        }
      ]
    },
    {
      "cell_type": "code",
      "metadata": {
        "id": "xEynHkQxdQqS",
        "colab": {
          "base_uri": "https://localhost:8080/",
          "height": 297
        },
        "outputId": "5476f1e7-f20a-4bd9-fa7c-f73fa4b8b69a"
      },
      "source": [
        "df_kmeans.groupby(['REGIAO','UF','Cluster']).size().unstack().plot(kind='bar',stacked=True)\n",
        "plt.title('Quantidade de cidades por cluster em cada estado')\n",
        "plt.ylabel('Quantidade de cidades')\n",
        "plt.xlabel('Estados brasileiros')\n",
        "plt.tight_layout()\n",
        "plt.show()"
      ],
      "execution_count": 35,
      "outputs": [
        {
          "output_type": "display_data",
          "data": {
            "image/png": "[encoded data removed]",
            "text/plain": [
              "<Figure size 432x288 with 1 Axes>"
            ]
          },
          "metadata": {
            "needs_background": "light"
          }
        }
      ]
    },
    {
      "cell_type": "markdown",
      "metadata": {
        "id": "yiw8ywbvdQqS"
      },
      "source": [
        "Aplicação do PCA para redução de dimensionalidade e visualização dos dados:"
      ]
    },
    {
      "cell_type": "code",
      "metadata": {
        "id": "t1ua5WcMdQqS",
        "colab": {
          "base_uri": "https://localhost:8080/"
        },
        "outputId": "c37b5aa1-7a65-4b0b-a897-68204d4fbc7a"
      },
      "source": [
        "from sklearn.decomposition import PCA\n",
        "pca=PCA(n_components=2)\n",
        "P=pca.fit_transform(p)\n",
        "\n",
        "print('Soma da variância acumulada:{}'.format(pca.explained_variance_ratio_ .sum()))\n",
        "P"
      ],
      "execution_count": 36,
      "outputs": [
        {
          "output_type": "stream",
          "name": "stdout",
          "text": [
            "Soma da variância acumulada:0.593412446115\n"
          ]
        },
        {
          "output_type": "execute_result",
          "data": {
            "text/plain": [
              "array([[-1.3092625 ,  0.16155623],\n",
              "       [ 1.20011933,  0.70616175],\n",
              "       [-0.39124023, -0.41752921],\n",
              "       ...,\n",
              "       [-0.63817632, -0.28689916],\n",
              "       [-0.45012564, -0.54959056],\n",
              "       [10.55567959, 27.92197407]])"
            ]
          },
          "metadata": {},
          "execution_count": 36
        }
      ]
    },
    {
      "cell_type": "markdown",
      "metadata": {
        "id": "JqRlClc1dQqS"
      },
      "source": [
        "Com a redução da dimensionalidade para n=2, temos uma variância acumulada de aproximadamente 60% dos dados. Para uma representação melhor, precisariamos de um n maior mas não seria interessante para observação gráfica."
      ]
    },
    {
      "cell_type": "code",
      "metadata": {
        "scrolled": true,
        "id": "6MVI5seYdQqS",
        "colab": {
          "base_uri": "https://localhost:8080/",
          "height": 417
        },
        "outputId": "80d1a149-eeab-4373-910f-e33208a94f0c"
      },
      "source": [
        "df_k_pca=pd.DataFrame(P, columns=['PC1', 'PC2'])\n",
        "df_k_pca['Cluster']=pl\n",
        "df_k_pca['Cidade']=df_kmeans['NOMEMUN'].values\n",
        "df_k_pca"
      ],
      "execution_count": 37,
      "outputs": [
        {
          "output_type": "execute_result",
          "data": {
            "text/html": [
              "<div>\n",
              "<style scoped>\n",
              "    .dataframe tbody tr th:only-of-type {\n",
              "        vertical-align: middle;\n",
              "    }\n",
              "\n",
              "    .dataframe tbody tr th {\n",
              "        vertical-align: top;\n",
              "    }\n",
              "\n",
              "    .dataframe thead th {\n",
              "        text-align: right;\n",
              "    }\n",
              "</style>\n",
              "<table border=\"1\" class=\"dataframe\">\n",
              "  <thead>\n",
              "    <tr style=\"text-align: right;\">\n",
              "      <th></th>\n",
              "      <th>PC1</th>\n",
              "      <th>PC2</th>\n",
              "      <th>Cluster</th>\n",
              "      <th>Cidade</th>\n",
              "    </tr>\n",
              "  </thead>\n",
              "  <tbody>\n",
              "    <tr>\n",
              "      <th>0</th>\n",
              "      <td>-1.309263</td>\n",
              "      <td>0.161556</td>\n",
              "      <td>0</td>\n",
              "      <td>ALTA FLORESTA D'OESTE</td>\n",
              "    </tr>\n",
              "    <tr>\n",
              "      <th>1</th>\n",
              "      <td>1.200119</td>\n",
              "      <td>0.706162</td>\n",
              "      <td>1</td>\n",
              "      <td>ARIQUEMES</td>\n",
              "    </tr>\n",
              "    <tr>\n",
              "      <th>2</th>\n",
              "      <td>-0.391240</td>\n",
              "      <td>-0.417529</td>\n",
              "      <td>1</td>\n",
              "      <td>CABIXI</td>\n",
              "    </tr>\n",
              "    <tr>\n",
              "      <th>3</th>\n",
              "      <td>2.246366</td>\n",
              "      <td>0.442749</td>\n",
              "      <td>1</td>\n",
              "      <td>CACOAL</td>\n",
              "    </tr>\n",
              "    <tr>\n",
              "      <th>4</th>\n",
              "      <td>1.434653</td>\n",
              "      <td>-0.574515</td>\n",
              "      <td>1</td>\n",
              "      <td>CEREJEIRAS</td>\n",
              "    </tr>\n",
              "    <tr>\n",
              "      <th>...</th>\n",
              "      <td>...</td>\n",
              "      <td>...</td>\n",
              "      <td>...</td>\n",
              "      <td>...</td>\n",
              "    </tr>\n",
              "    <tr>\n",
              "      <th>5560</th>\n",
              "      <td>2.692804</td>\n",
              "      <td>-0.874399</td>\n",
              "      <td>1</td>\n",
              "      <td>VIANÓPOLIS</td>\n",
              "    </tr>\n",
              "    <tr>\n",
              "      <th>5561</th>\n",
              "      <td>2.434440</td>\n",
              "      <td>-0.748602</td>\n",
              "      <td>1</td>\n",
              "      <td>VICENTINÓPOLIS</td>\n",
              "    </tr>\n",
              "    <tr>\n",
              "      <th>5562</th>\n",
              "      <td>-0.638176</td>\n",
              "      <td>-0.286899</td>\n",
              "      <td>0</td>\n",
              "      <td>VILA BOA</td>\n",
              "    </tr>\n",
              "    <tr>\n",
              "      <th>5563</th>\n",
              "      <td>-0.450126</td>\n",
              "      <td>-0.549591</td>\n",
              "      <td>1</td>\n",
              "      <td>VILA PROPÍCIO</td>\n",
              "    </tr>\n",
              "    <tr>\n",
              "      <th>5564</th>\n",
              "      <td>10.555680</td>\n",
              "      <td>27.921974</td>\n",
              "      <td>1</td>\n",
              "      <td>BRASÍLIA</td>\n",
              "    </tr>\n",
              "  </tbody>\n",
              "</table>\n",
              "<p>5565 rows × 4 columns</p>\n",
              "</div>"
            ],
            "text/plain": [
              "            PC1        PC2  Cluster                 Cidade\n",
              "0     -1.309263   0.161556        0  ALTA FLORESTA D'OESTE\n",
              "1      1.200119   0.706162        1              ARIQUEMES\n",
              "2     -0.391240  -0.417529        1                 CABIXI\n",
              "3      2.246366   0.442749        1                 CACOAL\n",
              "4      1.434653  -0.574515        1             CEREJEIRAS\n",
              "...         ...        ...      ...                    ...\n",
              "5560   2.692804  -0.874399        1             VIANÓPOLIS\n",
              "5561   2.434440  -0.748602        1         VICENTINÓPOLIS\n",
              "5562  -0.638176  -0.286899        0               VILA BOA\n",
              "5563  -0.450126  -0.549591        1          VILA PROPÍCIO\n",
              "5564  10.555680  27.921974        1               BRASÍLIA\n",
              "\n",
              "[5565 rows x 4 columns]"
            ]
          },
          "metadata": {},
          "execution_count": 37
        }
      ]
    },
    {
      "cell_type": "code",
      "metadata": {
        "id": "n3_OJF3SdQqS",
        "colab": {
          "base_uri": "https://localhost:8080/",
          "height": 500
        },
        "outputId": "ab64f470-483e-429b-f9eb-7f6a789aa603"
      },
      "source": [
        "from sklearn import cluster, metrics\n",
        "\n",
        "kmeans.fit(P)\n",
        "\n",
        "kmeans.cluster_medoids_=[]\n",
        "\n",
        "medians_index, _ = metrics.pairwise_distances_argmin_min(kmeans.cluster_centers_ , P[:,:2])\n",
        "\n",
        "medians_index #array com os indices das instancias dos clusters\n",
        "\n",
        "for m in medians_index:\n",
        "    kmeans.cluster_medoids_.append(np.array( [P[m,0],P[m,1]] ))\n",
        "\n",
        "kmeans.cluster_medoids_\n",
        "\n",
        "labels=kmeans.labels_\n",
        "centers=kmeans.cluster_centers_\n",
        "medoids=np.array(kmeans.cluster_medoids_)\n",
        "\n",
        "\n",
        "plt.figure(figsize=(10,8))\n",
        "\n",
        "\n",
        "plt.scatter(P[:,0],P[:,1], c=labels, label=\"Instâncias\")\n",
        "\n",
        "\n",
        "plt.scatter(centers[:,0],centers[:,1], marker='X', c=np.unique(labels),s=200, ec='k', alpha=0.6, label='Centróide')\n",
        "plt.scatter(medoids[:,0],medoids[:,1], marker='o', c=\"None\",s=100, ec='k', alpha=0.6, label=\"Medóide\")\n",
        "\n",
        "plt.legend()"
      ],
      "execution_count": 38,
      "outputs": [
        {
          "output_type": "execute_result",
          "data": {
            "text/plain": [
              "<matplotlib.legend.Legend at 0x7f3654882cd0>"
            ]
          },
          "metadata": {},
          "execution_count": 38
        },
        {
          "output_type": "display_data",
          "data": {
            "image/png": "[encoded data removed]",
            "text/plain": [
              "<Figure size 720x576 with 1 Axes>"
            ]
          },
          "metadata": {
            "needs_background": "light"
          }
        }
      ]
    },
    {
      "cell_type": "markdown",
      "metadata": {
        "id": "UwpNgcz9dQqS"
      },
      "source": [
        "Identificando os medóides de cada cluster, temos as cidades de AQUIDABÃ (Sergipe), Conceição das Alagoas (MG) e São Paulo (SP), como instâncias mais próximas dos clusters 0, 1, 2 respectivamente."
      ]
    },
    {
      "cell_type": "code",
      "metadata": {
        "id": "msXoa5JvdQqS",
        "colab": {
          "base_uri": "https://localhost:8080/",
          "height": 142
        },
        "outputId": "41903832-44bd-4570-def0-86945a33cbb4"
      },
      "source": [
        "df_k_pca[df_k_pca['PC1'].isin(medoids[:,0])]"
      ],
      "execution_count": 39,
      "outputs": [
        {
          "output_type": "execute_result",
          "data": {
            "text/html": [
              "<div>\n",
              "<style scoped>\n",
              "    .dataframe tbody tr th:only-of-type {\n",
              "        vertical-align: middle;\n",
              "    }\n",
              "\n",
              "    .dataframe tbody tr th {\n",
              "        vertical-align: top;\n",
              "    }\n",
              "\n",
              "    .dataframe thead th {\n",
              "        text-align: right;\n",
              "    }\n",
              "</style>\n",
              "<table border=\"1\" class=\"dataframe\">\n",
              "  <thead>\n",
              "    <tr style=\"text-align: right;\">\n",
              "      <th></th>\n",
              "      <th>PC1</th>\n",
              "      <th>PC2</th>\n",
              "      <th>Cluster</th>\n",
              "      <th>Cidade</th>\n",
              "    </tr>\n",
              "  </thead>\n",
              "  <tbody>\n",
              "    <tr>\n",
              "      <th>1752</th>\n",
              "      <td>-3.858694</td>\n",
              "      <td>0.424743</td>\n",
              "      <td>0</td>\n",
              "      <td>AQUIDABÃ</td>\n",
              "    </tr>\n",
              "    <tr>\n",
              "      <th>2432</th>\n",
              "      <td>2.923431</td>\n",
              "      <td>-0.370503</td>\n",
              "      <td>1</td>\n",
              "      <td>Conceição das Alagoas</td>\n",
              "    </tr>\n",
              "    <tr>\n",
              "      <th>3828</th>\n",
              "      <td>31.837228</td>\n",
              "      <td>158.471707</td>\n",
              "      <td>2</td>\n",
              "      <td>SÃO PAULO</td>\n",
              "    </tr>\n",
              "  </tbody>\n",
              "</table>\n",
              "</div>"
            ],
            "text/plain": [
              "            PC1         PC2  Cluster                 Cidade\n",
              "1752  -3.858694    0.424743        0               AQUIDABÃ\n",
              "2432   2.923431   -0.370503        1  Conceição das Alagoas\n",
              "3828  31.837228  158.471707        2              SÃO PAULO"
            ]
          },
          "metadata": {},
          "execution_count": 39
        }
      ]
    },
    {
      "cell_type": "markdown",
      "metadata": {
        "id": "IiwGAOuCdQqS"
      },
      "source": [
        "Além disso, podemos verificar os principais atributos em cada Componente:"
      ]
    },
    {
      "cell_type": "code",
      "metadata": {
        "id": "TtulFz2udQqT"
      },
      "source": [
        "a={key:[x,y] for key,x,y in zip(colunas,pca.components_[0],pca.components_[1])}\n",
        "\n",
        "rank_pc1 = [(colunas, pca_components_[0]) for colunas, pca_components_ in sorted(a.items(), \n",
        "                                                                                 key=lambda x: abs(x[1][0]), reverse=True)]\n",
        "\n",
        "rank_pc2 = [(colunas, pca_components_[1]) for colunas, pca_components_ in sorted(a.items(), \n",
        "                                                                                 key=lambda x: abs(x[1][1]), reverse=True)]"
      ],
      "execution_count": 40,
      "outputs": []
    },
    {
      "cell_type": "code",
      "metadata": {
        "id": "nPg1JQGPdQqT",
        "colab": {
          "base_uri": "https://localhost:8080/"
        },
        "outputId": "090d8612-3d47-4e34-f0f0-81e3ac7b28f6"
      },
      "source": [
        "for i in range(4):\n",
        "    print(\"PC1 - Atributo\",i+1,\":\",rank_pc1 [:4][i])\n",
        "\n",
        "print('-'*60)\n",
        "\n",
        "for i in range(4):\n",
        "    print(\"PC2 - Atributo\",i+1,\":\",rank_pc2 [:4][i])"
      ],
      "execution_count": 41,
      "outputs": [
        {
          "output_type": "stream",
          "name": "stdout",
          "text": [
            "PC1 - Atributo 1 : ('IDHM', 0.2485267318285839)\n",
            "PC1 - Atributo 2 : ('PPOB', -0.24840113745970227)\n",
            "PC1 - Atributo 3 : ('PMPOB', -0.24701777816919993)\n",
            "PC1 - Atributo 4 : ('IDHM_R', 0.24524833357225043)\n",
            "------------------------------------------------------------\n",
            "PC2 - Atributo 1 : ('HOMEMTOT', 0.3399468545004039)\n",
            "PC2 - Atributo 2 : ('TPM', 0.33988219212258725)\n",
            "PC2 - Atributo 3 : ('MULHERTOT', 0.3397811295069462)\n",
            "PC2 - Atributo 4 : ('PEA', 0.33899148205813007)\n"
          ]
        }
      ]
    },
    {
      "cell_type": "markdown",
      "metadata": {
        "id": "MJVQRJw5dQqT"
      },
      "source": [
        "## 3.3. - Aplicação de Clustering Hierárquico em dados padronizados: Ward"
      ]
    },
    {
      "cell_type": "code",
      "metadata": {
        "id": "0wwdmZpAdQqT"
      },
      "source": [
        "from sklearn.cluster import AgglomerativeClustering"
      ],
      "execution_count": 42,
      "outputs": []
    },
    {
      "cell_type": "code",
      "metadata": {
        "id": "ZB62hbv2dQqT"
      },
      "source": [
        "w=AgglomerativeClustering(n_clusters=3, linkage='ward')\n",
        "\n",
        "w.fit_predict(p)\n",
        "\n",
        "labels_ward=w.labels_"
      ],
      "execution_count": 43,
      "outputs": []
    },
    {
      "cell_type": "code",
      "metadata": {
        "id": "5kTehjZXdQqT",
        "colab": {
          "base_uri": "https://localhost:8080/"
        },
        "outputId": "a516dcf7-6f87-44f6-eaf6-7382f95c1102"
      },
      "source": [
        "df_ward=df_p.copy()\n",
        "df_ward['Cluster']=pd.Series(labels_ward).values\n",
        "df_ward['Cluster'].value_counts()"
      ],
      "execution_count": 44,
      "outputs": [
        {
          "output_type": "execute_result",
          "data": {
            "text/plain": [
              "0    3816\n",
              "1    1747\n",
              "2       2\n",
              "Name: Cluster, dtype: int64"
            ]
          },
          "metadata": {},
          "execution_count": 44
        }
      ]
    },
    {
      "cell_type": "code",
      "metadata": {
        "id": "LZBhpHRJdQqT",
        "colab": {
          "base_uri": "https://localhost:8080/"
        },
        "outputId": "0e96c973-96b8-43a5-fc53-867979e114ba"
      },
      "source": [
        "df_ward['Cidade']=df['NOMEMUN']\n",
        "df_ward['Cidade'][df_ward['Cluster']==2]"
      ],
      "execution_count": 45,
      "outputs": [
        {
          "output_type": "execute_result",
          "data": {
            "text/plain": [
              "ID\n",
              "3304557    RIO DE JANEIRO\n",
              "3550308         SÃO PAULO\n",
              "Name: Cidade, dtype: object"
            ]
          },
          "metadata": {},
          "execution_count": 45
        }
      ]
    },
    {
      "cell_type": "code",
      "metadata": {
        "id": "ovqlpYzvdQqT",
        "colab": {
          "base_uri": "https://localhost:8080/",
          "height": 417
        },
        "outputId": "46f31cf5-81fc-413e-a052-44af6531f1e8"
      },
      "source": [
        "df_ward_pca=pd.DataFrame(P, columns=['PC1', 'PC2'])\n",
        "df_ward_pca['Cluster']=df_ward['Cluster'].values\n",
        "df_ward_pca['Cidade']=df_ward['Cidade'].values\n",
        "df_ward_pca"
      ],
      "execution_count": 46,
      "outputs": [
        {
          "output_type": "execute_result",
          "data": {
            "text/html": [
              "<div>\n",
              "<style scoped>\n",
              "    .dataframe tbody tr th:only-of-type {\n",
              "        vertical-align: middle;\n",
              "    }\n",
              "\n",
              "    .dataframe tbody tr th {\n",
              "        vertical-align: top;\n",
              "    }\n",
              "\n",
              "    .dataframe thead th {\n",
              "        text-align: right;\n",
              "    }\n",
              "</style>\n",
              "<table border=\"1\" class=\"dataframe\">\n",
              "  <thead>\n",
              "    <tr style=\"text-align: right;\">\n",
              "      <th></th>\n",
              "      <th>PC1</th>\n",
              "      <th>PC2</th>\n",
              "      <th>Cluster</th>\n",
              "      <th>Cidade</th>\n",
              "    </tr>\n",
              "  </thead>\n",
              "  <tbody>\n",
              "    <tr>\n",
              "      <th>0</th>\n",
              "      <td>-1.309263</td>\n",
              "      <td>0.161556</td>\n",
              "      <td>0</td>\n",
              "      <td>ALTA FLORESTA D'OESTE</td>\n",
              "    </tr>\n",
              "    <tr>\n",
              "      <th>1</th>\n",
              "      <td>1.200119</td>\n",
              "      <td>0.706162</td>\n",
              "      <td>0</td>\n",
              "      <td>ARIQUEMES</td>\n",
              "    </tr>\n",
              "    <tr>\n",
              "      <th>2</th>\n",
              "      <td>-0.391240</td>\n",
              "      <td>-0.417529</td>\n",
              "      <td>0</td>\n",
              "      <td>CABIXI</td>\n",
              "    </tr>\n",
              "    <tr>\n",
              "      <th>3</th>\n",
              "      <td>2.246366</td>\n",
              "      <td>0.442749</td>\n",
              "      <td>0</td>\n",
              "      <td>CACOAL</td>\n",
              "    </tr>\n",
              "    <tr>\n",
              "      <th>4</th>\n",
              "      <td>1.434653</td>\n",
              "      <td>-0.574515</td>\n",
              "      <td>0</td>\n",
              "      <td>CEREJEIRAS</td>\n",
              "    </tr>\n",
              "    <tr>\n",
              "      <th>...</th>\n",
              "      <td>...</td>\n",
              "      <td>...</td>\n",
              "      <td>...</td>\n",
              "      <td>...</td>\n",
              "    </tr>\n",
              "    <tr>\n",
              "      <th>5560</th>\n",
              "      <td>2.692804</td>\n",
              "      <td>-0.874399</td>\n",
              "      <td>0</td>\n",
              "      <td>VIANÓPOLIS</td>\n",
              "    </tr>\n",
              "    <tr>\n",
              "      <th>5561</th>\n",
              "      <td>2.434440</td>\n",
              "      <td>-0.748602</td>\n",
              "      <td>0</td>\n",
              "      <td>VICENTINÓPOLIS</td>\n",
              "    </tr>\n",
              "    <tr>\n",
              "      <th>5562</th>\n",
              "      <td>-0.638176</td>\n",
              "      <td>-0.286899</td>\n",
              "      <td>0</td>\n",
              "      <td>VILA BOA</td>\n",
              "    </tr>\n",
              "    <tr>\n",
              "      <th>5563</th>\n",
              "      <td>-0.450126</td>\n",
              "      <td>-0.549591</td>\n",
              "      <td>0</td>\n",
              "      <td>VILA PROPÍCIO</td>\n",
              "    </tr>\n",
              "    <tr>\n",
              "      <th>5564</th>\n",
              "      <td>10.555680</td>\n",
              "      <td>27.921974</td>\n",
              "      <td>0</td>\n",
              "      <td>BRASÍLIA</td>\n",
              "    </tr>\n",
              "  </tbody>\n",
              "</table>\n",
              "<p>5565 rows × 4 columns</p>\n",
              "</div>"
            ],
            "text/plain": [
              "            PC1        PC2  Cluster                 Cidade\n",
              "0     -1.309263   0.161556        0  ALTA FLORESTA D'OESTE\n",
              "1      1.200119   0.706162        0              ARIQUEMES\n",
              "2     -0.391240  -0.417529        0                 CABIXI\n",
              "3      2.246366   0.442749        0                 CACOAL\n",
              "4      1.434653  -0.574515        0             CEREJEIRAS\n",
              "...         ...        ...      ...                    ...\n",
              "5560   2.692804  -0.874399        0             VIANÓPOLIS\n",
              "5561   2.434440  -0.748602        0         VICENTINÓPOLIS\n",
              "5562  -0.638176  -0.286899        0               VILA BOA\n",
              "5563  -0.450126  -0.549591        0          VILA PROPÍCIO\n",
              "5564  10.555680  27.921974        0               BRASÍLIA\n",
              "\n",
              "[5565 rows x 4 columns]"
            ]
          },
          "metadata": {},
          "execution_count": 46
        }
      ]
    },
    {
      "cell_type": "code",
      "metadata": {
        "id": "VAVVJTAgdQqU",
        "colab": {
          "base_uri": "https://localhost:8080/",
          "height": 405
        },
        "outputId": "37d2d908-e11b-474f-af32-466f6bd9fcca"
      },
      "source": [
        "plt.figure(figsize=(10,6))\n",
        "sns.scatterplot(x=df_ward_pca['PC1'], y=df_ward_pca['PC2'], hue=df_ward_pca['Cluster'])"
      ],
      "execution_count": 47,
      "outputs": [
        {
          "output_type": "execute_result",
          "data": {
            "text/plain": [
              "<matplotlib.axes._subplots.AxesSubplot at 0x7f36527eb6d0>"
            ]
          },
          "metadata": {},
          "execution_count": 47
        },
        {
          "output_type": "display_data",
          "data": {
            "image/png": "[encoded data removed]",
            "text/plain": [
              "<Figure size 720x432 with 1 Axes>"
            ]
          },
          "metadata": {
            "needs_background": "light"
          }
        }
      ]
    },
    {
      "cell_type": "code",
      "metadata": {
        "id": "z-gHfQm6dQqU",
        "colab": {
          "base_uri": "https://localhost:8080/",
          "height": 297
        },
        "outputId": "6bd0ac33-7e3a-4954-a594-87d4b52af462"
      },
      "source": [
        "df_ward['REGIAO']=df['REGIAO']\n",
        "df_ward['UF']=df['UF']\n",
        "df_ward.groupby(['REGIAO','UF','Cluster']).size().unstack().plot(kind='bar',stacked=True)\n",
        "plt.title('Quantidade de cidades por cluster em cada estado - WARD')\n",
        "plt.ylabel('Quantidade de cidades')\n",
        "plt.xlabel('Estados brasileiros')\n",
        "plt.tight_layout()\n",
        "plt.show()"
      ],
      "execution_count": 48,
      "outputs": [
        {
          "output_type": "display_data",
          "data": {
            "image/png": "[encoded data removed]",
            "text/plain": [
              "<Figure size 432x288 with 1 Axes>"
            ]
          },
          "metadata": {
            "needs_background": "light"
          }
        }
      ]
    },
    {
      "cell_type": "code",
      "metadata": {
        "id": "r4d3IPDvRz_U",
        "colab": {
          "base_uri": "https://localhost:8080/",
          "height": 418
        },
        "outputId": "5803157f-728a-4e23-e8b1-d0ed72ad10ef"
      },
      "source": [
        "df_ward[['REGIAO','Cluster','Cidade']].groupby(['REGIAO','Cluster']).count()"
      ],
      "execution_count": 49,
      "outputs": [
        {
          "output_type": "execute_result",
          "data": {
            "text/html": [
              "<div>\n",
              "<style scoped>\n",
              "    .dataframe tbody tr th:only-of-type {\n",
              "        vertical-align: middle;\n",
              "    }\n",
              "\n",
              "    .dataframe tbody tr th {\n",
              "        vertical-align: top;\n",
              "    }\n",
              "\n",
              "    .dataframe thead th {\n",
              "        text-align: right;\n",
              "    }\n",
              "</style>\n",
              "<table border=\"1\" class=\"dataframe\">\n",
              "  <thead>\n",
              "    <tr style=\"text-align: right;\">\n",
              "      <th></th>\n",
              "      <th></th>\n",
              "      <th>Cidade</th>\n",
              "    </tr>\n",
              "    <tr>\n",
              "      <th>REGIAO</th>\n",
              "      <th>Cluster</th>\n",
              "      <th></th>\n",
              "    </tr>\n",
              "  </thead>\n",
              "  <tbody>\n",
              "    <tr>\n",
              "      <th rowspan=\"2\" valign=\"top\">Centro-Oeste</th>\n",
              "      <th>0</th>\n",
              "      <td>381</td>\n",
              "    </tr>\n",
              "    <tr>\n",
              "      <th>1</th>\n",
              "      <td>7</td>\n",
              "    </tr>\n",
              "    <tr>\n",
              "      <th rowspan=\"2\" valign=\"top\">Nordeste</th>\n",
              "      <th>0</th>\n",
              "      <td>338</td>\n",
              "    </tr>\n",
              "    <tr>\n",
              "      <th>1</th>\n",
              "      <td>1456</td>\n",
              "    </tr>\n",
              "    <tr>\n",
              "      <th rowspan=\"2\" valign=\"top\">Norte</th>\n",
              "      <th>0</th>\n",
              "      <td>229</td>\n",
              "    </tr>\n",
              "    <tr>\n",
              "      <th>1</th>\n",
              "      <td>220</td>\n",
              "    </tr>\n",
              "    <tr>\n",
              "      <th rowspan=\"3\" valign=\"top\">Sudeste</th>\n",
              "      <th>0</th>\n",
              "      <td>1607</td>\n",
              "    </tr>\n",
              "    <tr>\n",
              "      <th>1</th>\n",
              "      <td>59</td>\n",
              "    </tr>\n",
              "    <tr>\n",
              "      <th>2</th>\n",
              "      <td>2</td>\n",
              "    </tr>\n",
              "    <tr>\n",
              "      <th rowspan=\"2\" valign=\"top\">Sul</th>\n",
              "      <th>0</th>\n",
              "      <td>1261</td>\n",
              "    </tr>\n",
              "    <tr>\n",
              "      <th>1</th>\n",
              "      <td>5</td>\n",
              "    </tr>\n",
              "  </tbody>\n",
              "</table>\n",
              "</div>"
            ],
            "text/plain": [
              "                      Cidade\n",
              "REGIAO       Cluster        \n",
              "Centro-Oeste 0           381\n",
              "             1             7\n",
              "Nordeste     0           338\n",
              "             1          1456\n",
              "Norte        0           229\n",
              "             1           220\n",
              "Sudeste      0          1607\n",
              "             1            59\n",
              "             2             2\n",
              "Sul          0          1261\n",
              "             1             5"
            ]
          },
          "metadata": {},
          "execution_count": 49
        }
      ]
    },
    {
      "cell_type": "code",
      "metadata": {
        "id": "PipqG3b_uq_Y",
        "outputId": "8cbd564b-a746-4747-99a5-0d532770881b",
        "colab": {
          "base_uri": "https://localhost:8080/"
        }
      },
      "source": [
        "df_ward.columns"
      ],
      "execution_count": 50,
      "outputs": [
        {
          "output_type": "execute_result",
          "data": {
            "text/plain": [
              "Index(['SCO', 'TPM', 'DDM', 'SMM', 'POM', 'TPO', 'RSA', 'TXE', 'IDEBI',\n",
              "       'IDEBF', 'PIB', 'RER', 'DEM', 'AUT', 'ESA', 'AVP', 'UVP', 'ESPVIDA',\n",
              "       'T_ENV', 'E_ANOSESTUDO', 'T_ANALF15M', 'GINI', 'PIND', 'PMPOB', 'PPOB',\n",
              "       'RDPC', 'T_AGUA', 'T_DENS', 'T_LIXO', 'T_LUZ', 'HOMEMTOT', 'MULHERTOT',\n",
              "       'PEA', 'pesoRUR', 'pesourb', 'IDHM', 'IDHM_E', 'IDHM_L', 'IDHM_R',\n",
              "       'Cluster', 'Cidade', 'REGIAO', 'UF'],\n",
              "      dtype='object')"
            ]
          },
          "metadata": {},
          "execution_count": 50
        }
      ]
    },
    {
      "cell_type": "markdown",
      "metadata": {
        "id": "RyFDMATQuum8"
      },
      "source": [
        "# 4 - Clusterização e o Indice de igualdade de gênero"
      ]
    },
    {
      "cell_type": "markdown",
      "metadata": {
        "id": "ftxd2DDtuxsF"
      },
      "source": [
        "A partir dos modelos aplicados, verificamos a relação com os valores do score de igualdade de gênero \"SCO\", original do dataset para analisarmos os resultados"
      ]
    },
    {
      "cell_type": "code",
      "metadata": {
        "id": "7xCldB4TuwyD"
      },
      "source": [
        "df_final=df[['COD_UF', 'UF', 'REGIAO', 'NOMEMUN', 'SCO']].copy()"
      ],
      "execution_count": 51,
      "outputs": []
    },
    {
      "cell_type": "code",
      "metadata": {
        "id": "0d5soCs9u3BB",
        "outputId": "9d3a93f8-10ba-40b0-e6e8-36beffa4f4d3",
        "colab": {
          "base_uri": "https://localhost:8080/",
          "height": 447
        }
      },
      "source": [
        "df_final['CLUSTER_KMEANS']=df_kmeans['Cluster']\n",
        "df_final['CLUSTER_HIERARQ']=df_ward['Cluster']\n",
        "df_final"
      ],
      "execution_count": 52,
      "outputs": [
        {
          "output_type": "execute_result",
          "data": {
            "text/html": [
              "<div>\n",
              "<style scoped>\n",
              "    .dataframe tbody tr th:only-of-type {\n",
              "        vertical-align: middle;\n",
              "    }\n",
              "\n",
              "    .dataframe tbody tr th {\n",
              "        vertical-align: top;\n",
              "    }\n",
              "\n",
              "    .dataframe thead th {\n",
              "        text-align: right;\n",
              "    }\n",
              "</style>\n",
              "<table border=\"1\" class=\"dataframe\">\n",
              "  <thead>\n",
              "    <tr style=\"text-align: right;\">\n",
              "      <th></th>\n",
              "      <th>COD_UF</th>\n",
              "      <th>UF</th>\n",
              "      <th>REGIAO</th>\n",
              "      <th>NOMEMUN</th>\n",
              "      <th>SCO</th>\n",
              "      <th>CLUSTER_KMEANS</th>\n",
              "      <th>CLUSTER_HIERARQ</th>\n",
              "    </tr>\n",
              "    <tr>\n",
              "      <th>ID</th>\n",
              "      <th></th>\n",
              "      <th></th>\n",
              "      <th></th>\n",
              "      <th></th>\n",
              "      <th></th>\n",
              "      <th></th>\n",
              "      <th></th>\n",
              "    </tr>\n",
              "  </thead>\n",
              "  <tbody>\n",
              "    <tr>\n",
              "      <th>1100015</th>\n",
              "      <td>11</td>\n",
              "      <td>RO</td>\n",
              "      <td>Norte</td>\n",
              "      <td>ALTA FLORESTA D'OESTE</td>\n",
              "      <td>0.707630</td>\n",
              "      <td>0</td>\n",
              "      <td>0</td>\n",
              "    </tr>\n",
              "    <tr>\n",
              "      <th>1100023</th>\n",
              "      <td>11</td>\n",
              "      <td>RO</td>\n",
              "      <td>Norte</td>\n",
              "      <td>ARIQUEMES</td>\n",
              "      <td>0.751337</td>\n",
              "      <td>1</td>\n",
              "      <td>0</td>\n",
              "    </tr>\n",
              "    <tr>\n",
              "      <th>1100031</th>\n",
              "      <td>11</td>\n",
              "      <td>RO</td>\n",
              "      <td>Norte</td>\n",
              "      <td>CABIXI</td>\n",
              "      <td>0.755332</td>\n",
              "      <td>1</td>\n",
              "      <td>0</td>\n",
              "    </tr>\n",
              "    <tr>\n",
              "      <th>1100049</th>\n",
              "      <td>11</td>\n",
              "      <td>RO</td>\n",
              "      <td>Norte</td>\n",
              "      <td>CACOAL</td>\n",
              "      <td>0.751092</td>\n",
              "      <td>1</td>\n",
              "      <td>0</td>\n",
              "    </tr>\n",
              "    <tr>\n",
              "      <th>1100056</th>\n",
              "      <td>11</td>\n",
              "      <td>RO</td>\n",
              "      <td>Norte</td>\n",
              "      <td>CEREJEIRAS</td>\n",
              "      <td>0.750303</td>\n",
              "      <td>1</td>\n",
              "      <td>0</td>\n",
              "    </tr>\n",
              "    <tr>\n",
              "      <th>...</th>\n",
              "      <td>...</td>\n",
              "      <td>...</td>\n",
              "      <td>...</td>\n",
              "      <td>...</td>\n",
              "      <td>...</td>\n",
              "      <td>...</td>\n",
              "      <td>...</td>\n",
              "    </tr>\n",
              "    <tr>\n",
              "      <th>5222005</th>\n",
              "      <td>52</td>\n",
              "      <td>GO</td>\n",
              "      <td>Centro-Oeste</td>\n",
              "      <td>VIANÓPOLIS</td>\n",
              "      <td>0.736929</td>\n",
              "      <td>1</td>\n",
              "      <td>0</td>\n",
              "    </tr>\n",
              "    <tr>\n",
              "      <th>5222054</th>\n",
              "      <td>52</td>\n",
              "      <td>GO</td>\n",
              "      <td>Centro-Oeste</td>\n",
              "      <td>VICENTINÓPOLIS</td>\n",
              "      <td>0.758423</td>\n",
              "      <td>1</td>\n",
              "      <td>0</td>\n",
              "    </tr>\n",
              "    <tr>\n",
              "      <th>5222203</th>\n",
              "      <td>52</td>\n",
              "      <td>GO</td>\n",
              "      <td>Centro-Oeste</td>\n",
              "      <td>VILA BOA</td>\n",
              "      <td>0.746885</td>\n",
              "      <td>0</td>\n",
              "      <td>0</td>\n",
              "    </tr>\n",
              "    <tr>\n",
              "      <th>5222302</th>\n",
              "      <td>52</td>\n",
              "      <td>GO</td>\n",
              "      <td>Centro-Oeste</td>\n",
              "      <td>VILA PROPÍCIO</td>\n",
              "      <td>0.751993</td>\n",
              "      <td>1</td>\n",
              "      <td>0</td>\n",
              "    </tr>\n",
              "    <tr>\n",
              "      <th>5300108</th>\n",
              "      <td>53</td>\n",
              "      <td>DF</td>\n",
              "      <td>Centro-Oeste</td>\n",
              "      <td>BRASÍLIA</td>\n",
              "      <td>0.775501</td>\n",
              "      <td>1</td>\n",
              "      <td>0</td>\n",
              "    </tr>\n",
              "  </tbody>\n",
              "</table>\n",
              "<p>5565 rows × 7 columns</p>\n",
              "</div>"
            ],
            "text/plain": [
              "         COD_UF   UF        REGIAO  ...       SCO  CLUSTER_KMEANS  CLUSTER_HIERARQ\n",
              "ID                                  ...                                           \n",
              "1100015      11  RO          Norte  ...  0.707630               0                0\n",
              "1100023      11  RO          Norte  ...  0.751337               1                0\n",
              "1100031      11  RO          Norte  ...  0.755332               1                0\n",
              "1100049      11  RO          Norte  ...  0.751092               1                0\n",
              "1100056      11  RO          Norte  ...  0.750303               1                0\n",
              "...         ...  ...           ...  ...       ...             ...              ...\n",
              "5222005      52   GO  Centro-Oeste  ...  0.736929               1                0\n",
              "5222054      52   GO  Centro-Oeste  ...  0.758423               1                0\n",
              "5222203      52   GO  Centro-Oeste  ...  0.746885               0                0\n",
              "5222302      52   GO  Centro-Oeste  ...  0.751993               1                0\n",
              "5300108      53   DF  Centro-Oeste  ...  0.775501               1                0\n",
              "\n",
              "[5565 rows x 7 columns]"
            ]
          },
          "metadata": {},
          "execution_count": 52
        }
      ]
    },
    {
      "cell_type": "code",
      "metadata": {
        "id": "47sz_ix7u6dp",
        "outputId": "4910a403-cc2b-465c-8be4-afe6dd39f808",
        "colab": {
          "base_uri": "https://localhost:8080/",
          "height": 297
        }
      },
      "source": [
        "sns.boxplot(x=df_final['CLUSTER_KMEANS'],y=df_final['SCO'])"
      ],
      "execution_count": 53,
      "outputs": [
        {
          "output_type": "execute_result",
          "data": {
            "text/plain": [
              "<matplotlib.axes._subplots.AxesSubplot at 0x7f3652555ed0>"
            ]
          },
          "metadata": {},
          "execution_count": 53
        },
        {
          "output_type": "display_data",
          "data": {
            "image/png": "[encoded data removed]",
            "text/plain": [
              "<Figure size 432x288 with 1 Axes>"
            ]
          },
          "metadata": {
            "needs_background": "light"
          }
        }
      ]
    },
    {
      "cell_type": "code",
      "metadata": {
        "id": "RjsQxZxvu7Ka",
        "outputId": "3db818c0-6963-4cb6-ac58-fecfd25175ca",
        "colab": {
          "base_uri": "https://localhost:8080/",
          "height": 297
        }
      },
      "source": [
        "sns.boxplot(x=df_final['CLUSTER_HIERARQ'],y=df_final['SCO'])"
      ],
      "execution_count": 54,
      "outputs": [
        {
          "output_type": "execute_result",
          "data": {
            "text/plain": [
              "<matplotlib.axes._subplots.AxesSubplot at 0x7f36524db5d0>"
            ]
          },
          "metadata": {},
          "execution_count": 54
        },
        {
          "output_type": "display_data",
          "data": {
            "image/png": "[encoded data removed]",
            "text/plain": [
              "<Figure size 432x288 with 1 Axes>"
            ]
          },
          "metadata": {
            "needs_background": "light"
          }
        }
      ]
    }
  ]
}